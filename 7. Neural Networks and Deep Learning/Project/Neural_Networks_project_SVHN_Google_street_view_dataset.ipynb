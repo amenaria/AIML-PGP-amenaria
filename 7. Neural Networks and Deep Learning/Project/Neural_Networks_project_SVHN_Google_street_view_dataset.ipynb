{
 "cells": [
  {
   "cell_type": "markdown",
   "metadata": {
    "id": "wqKJvevTz9zh"
   },
   "source": [
    "# Project -Neural Network\n",
    "Street View Housing Number Digit Recognition\n",
    "\n",
    "## The Problem Description:\n",
    "Recognizing multi-digit numbers in photographs captured at street level is an important component of modernday map making. A classic example of a corpus of such street-level photographs is Google’s Street View imagery comprised of hundreds of millions of geo-located 360-degree panoramic images. The ability to automatically transcribe an address number from a geo-located patch of pixels and associate the transcribed number with a known street address helps pinpoint, with a high degree of accuracy, the location of the building it represents. More broadly, recognizing numbers in photographs is a problem of interest to the optical character recognition community. While OCR on constrained domains like document processing is well studied, arbitrary multi-character text recognition in photographs is still highly challenging. This difficulty arises due to the wide variability in the visual appearance of text in the wild on account of a large range of fonts, colours, styles, orientations, and character arrangements. The recognition problem is further complicated by environmental factors such as lighting, shadows, specularities, and occlusions as well as by image acquisition factors such as resolution, motion, and focus blurs. In this project, we will use the dataset with images centred around a single digit (many of the images do contain some distractors at the sides). Although we are taking a sample of the data which is simpler, it is more complex than MNIST because of the distractors.\n",
    "\n",
    "## Dataset\n",
    "SVHN is a real-world image dataset for developing machine learning and object recognition algorithms with the minimal requirement on data formatting but comes from a significantly harder, unsolved, real-world problem (recognizing digits and numbers in natural scene images). SVHN is obtained from house numbers in Google Street View images.\n",
    "Code to load the dataset\n",
    "\n",
    "## Acknowledgement\n",
    "Yuval Netzer, Tao Wang, Adam Coates, Alessandro Bissacco, Bo Wu, Andrew Y. Ng Reading Digits in Natural Images with Unsupervised Feature Learning NIPS Workshop on Deep Learning and Unsupervised Feature Learning 2011. PDF\n",
    "http://ufldl.stanford.edu/housenumbers as the URL for this site when necessary\n",
    "\n",
    "## Steps\n",
    "The objective of the project is to learn how to implement a simple image classification pipeline based on a deep neural network and understand the basics of Image Classification\n",
    "1. Read the data from the h5py file and understand the train/test splits (5 points)\n",
    "2. Reshape and normalize the train and test features (10 points)\n",
    "3. One hot encode the labels for train and test data (15 points)\n",
    "4. Define the model architecture using TensorFlow with a flatten layer followed by dense layers with activation as ReLu and softmax (15 points)\n",
    "5. Compile the model with loss as categorical cross-entropy and adam optimizers. Use accuracy as the metric for evaluation (10 points)\n",
    "6. Fit and evaluate the model. Print the loss and accuracy for the test data (5 points)"
   ]
  },
  {
   "cell_type": "code",
   "execution_count": 41,
   "metadata": {
    "id": "ZmKBdDlJwSun"
   },
   "outputs": [],
   "source": [
    "%tensorflow_version 2.x\n",
    "import tensorflow as tf\n",
    "tf.__version__\n",
    "\n",
    "import random, warnings\n",
    "random.seed(0)\n",
    "warnings.filterwarnings('ignore')"
   ]
  },
  {
   "cell_type": "code",
   "execution_count": 42,
   "metadata": {
    "id": "kHWduqY8wmRt"
   },
   "outputs": [],
   "source": [
    "import pandas as pd\n",
    "import numpy as np\n",
    "import matplotlib.pyplot as plt\n",
    "%matplotlib inline\n"
   ]
  },
  {
   "cell_type": "markdown",
   "metadata": {
    "id": "8xTCFyH7g56i"
   },
   "source": [
    "# 1. Read the data from the h5py file and understand the train/test splits (5 points)\n"
   ]
  },
  {
   "cell_type": "code",
   "execution_count": 44,
   "metadata": {
    "colab": {
     "base_uri": "https://localhost:8080/"
    },
    "id": "QXkuLK11uTz8",
    "outputId": "6cabe420-cfe8-4d80-e4d5-b1c5ff4c07d7"
   },
   "outputs": [
    {
     "name": "stdout",
     "output_type": "stream",
     "text": [
      "Drive already mounted at /content/gdrive/; to attempt to forcibly remount, call drive.mount(\"/content/gdrive/\", force_remount=True).\n"
     ]
    },
    {
     "data": {
      "text/plain": [
       "<KeysViewHDF5 ['X_test', 'X_train', 'X_val', 'y_test', 'y_train', 'y_val']>"
      ]
     },
     "execution_count": 44,
     "metadata": {
      "tags": []
     },
     "output_type": "execute_result"
    }
   ],
   "source": [
    "import h5py\n",
    "from google.colab import drive\n",
    "drive.mount('/content/gdrive/')\n",
    "root_path = '/content/gdrive/MyDrive/Colab/Neural Networks Project/'\n",
    "\n",
    "h5f = h5py.File(root_path + 'SVHN_single_grey1.h5', 'r')\n",
    "h5f.keys()"
   ]
  },
  {
   "cell_type": "code",
   "execution_count": 46,
   "metadata": {
    "id": "tIhbhTA2uqEm"
   },
   "outputs": [],
   "source": [
    "X_train = h5f['X_train'][:]\n",
    "y_train = h5f['y_train'][:]\n",
    "X_test = h5f['X_test'][:]\n",
    "y_test = h5f['y_test'][:]\n",
    "X_val = h5f['X_val'][:]\n",
    "y_val = h5f['y_val'][:]"
   ]
  },
  {
   "cell_type": "code",
   "execution_count": 47,
   "metadata": {
    "colab": {
     "base_uri": "https://localhost:8080/"
    },
    "id": "kddKVni6xVI8",
    "outputId": "c7231704-9be3-4c6b-ca53-f9127080a050"
   },
   "outputs": [
    {
     "name": "stdout",
     "output_type": "stream",
     "text": [
      "(42000, 32, 32) (42000,) (18000, 32, 32) (18000,) (60000, 32, 32) (60000,)\n"
     ]
    }
   ],
   "source": [
    "print(X_train.shape, y_train.shape, X_test.shape, y_test.shape, X_val.shape, y_val.shape)"
   ]
  },
  {
   "cell_type": "markdown",
   "metadata": {
    "id": "VuwTOgDlhCu8"
   },
   "source": [
    "Observations:\n",
    "1. X_train and X_test are split in 42000:18000 ratio\n",
    "2. X_val has 60000 items"
   ]
  },
  {
   "cell_type": "code",
   "execution_count": 48,
   "metadata": {
    "colab": {
     "base_uri": "https://localhost:8080/"
    },
    "id": "sCcapdpWfcNk",
    "outputId": "aaf7811e-29c9-4cf6-88fe-da77b6b2952a"
   },
   "outputs": [
    {
     "data": {
      "text/plain": [
       "array([[ 33.0704,  30.2601,  26.852 , ...,  71.4471,  58.2204,  42.9939],\n",
       "       [ 25.2283,  25.5533,  29.9765, ..., 113.0209, 103.3639,  84.2949],\n",
       "       [ 26.2775,  22.6137,  40.4763, ..., 113.3028, 121.775 , 115.4228],\n",
       "       ...,\n",
       "       [ 28.5502,  36.212 ,  45.0801, ...,  24.1359,  25.0927,  26.0603],\n",
       "       [ 38.4352,  26.4733,  23.2717, ...,  28.1094,  29.4683,  30.0661],\n",
       "       [ 50.2984,  26.0773,  24.0389, ...,  49.6682,  50.853 ,  53.0377]],\n",
       "      dtype=float32)"
      ]
     },
     "execution_count": 48,
     "metadata": {
      "tags": []
     },
     "output_type": "execute_result"
    }
   ],
   "source": [
    "X_train[0]"
   ]
  },
  {
   "cell_type": "code",
   "execution_count": 49,
   "metadata": {
    "colab": {
     "base_uri": "https://localhost:8080/"
    },
    "id": "GCxs1bmugsy4",
    "outputId": "6b6b065d-0471-44ad-8dd5-f523ca1f885f"
   },
   "outputs": [
    {
     "data": {
      "text/plain": [
       "array([[ 75.0527,  74.6398,  72.526 , ..., 108.1588, 110.1586, 111.1585],\n",
       "       [ 74.0528,  73.6399,  72.1131, ..., 108.1588, 110.1586, 111.1585],\n",
       "       [ 72.053 ,  72.053 ,  72.8141, ..., 108.1588, 112.1584, 114.1582],\n",
       "       ...,\n",
       "       [ 67.7976,  67.7976,  68.2706, ..., 107.2451, 118.945 , 123.9445],\n",
       "       [ 66.7977,  66.7977,  67.2707, ...,  99.9469, 112.0597, 118.0591],\n",
       "       [ 66.7977,  66.7977,  67.2707, ...,  96.9472, 109.06  , 115.0594]],\n",
       "      dtype=float32)"
      ]
     },
     "execution_count": 49,
     "metadata": {
      "tags": []
     },
     "output_type": "execute_result"
    }
   ],
   "source": [
    "X_test[100]"
   ]
  },
  {
   "cell_type": "code",
   "execution_count": 50,
   "metadata": {
    "colab": {
     "base_uri": "https://localhost:8080/"
    },
    "id": "bcshWffNes7y",
    "outputId": "f8402384-c8fa-4265-ba00-c0a25e0d43d9"
   },
   "outputs": [
    {
     "data": {
      "text/plain": [
       "array([[ 44.299 ,  45.9999,  51.3306, ...,  25.2764,  27.515 ,  27.156 ],\n",
       "       [ 49.1351,  60.3081,  70.1222, ...,  23.7002,  25.2378,  24.2918],\n",
       "       [ 60.7595,  83.7141, 102.1961, ...,  24.5044,  24.9712,  22.8512],\n",
       "       ...,\n",
       "       [ 67.1072,  93.2464, 109.2017, ...,  26.6444,  24.6015,  22.9607],\n",
       "       [ 24.7569,  36.6417,  48.9071, ...,  21.9268,  21.5309,  21.5479],\n",
       "       [ 22.6584,  22.7724,  27.2666, ...,  21.443 ,  20.8191,  20.0812]],\n",
       "      dtype=float32)"
      ]
     },
     "execution_count": 50,
     "metadata": {
      "tags": []
     },
     "output_type": "execute_result"
    }
   ],
   "source": [
    "X_val[0]"
   ]
  },
  {
   "cell_type": "code",
   "execution_count": 51,
   "metadata": {
    "colab": {
     "base_uri": "https://localhost:8080/"
    },
    "id": "Ts_gfLacgyc3",
    "outputId": "5dfaec53-83a6-45e2-fc4f-d72cd614240e"
   },
   "outputs": [
    {
     "data": {
      "text/plain": [
       "(32, 32)"
      ]
     },
     "execution_count": 51,
     "metadata": {
      "tags": []
     },
     "output_type": "execute_result"
    }
   ],
   "source": [
    "X_train[0].shape"
   ]
  },
  {
   "cell_type": "code",
   "execution_count": 52,
   "metadata": {
    "colab": {
     "base_uri": "https://localhost:8080/"
    },
    "id": "ZZNmucyxfwoa",
    "outputId": "c17643ec-ac29-4b87-caaf-cde3d2b3ca61"
   },
   "outputs": [
    {
     "data": {
      "text/plain": [
       "array([0, 0, 0, ..., 9, 9, 9], dtype=uint8)"
      ]
     },
     "execution_count": 52,
     "metadata": {
      "tags": []
     },
     "output_type": "execute_result"
    }
   ],
   "source": [
    "y_val"
   ]
  },
  {
   "cell_type": "markdown",
   "metadata": {
    "id": "08XyHGYYhW0X"
   },
   "source": [
    "y_val seems to be a sorted target variable"
   ]
  },
  {
   "cell_type": "code",
   "execution_count": 53,
   "metadata": {
    "colab": {
     "base_uri": "https://localhost:8080/"
    },
    "id": "FGdz1VFSf4jw",
    "outputId": "38f562bd-a08a-4ae0-ace5-9e98dda3440e"
   },
   "outputs": [
    {
     "data": {
      "text/plain": [
       "array([1, 7, 2, ..., 7, 9, 2], dtype=uint8)"
      ]
     },
     "execution_count": 53,
     "metadata": {
      "tags": []
     },
     "output_type": "execute_result"
    }
   ],
   "source": [
    "y_test"
   ]
  },
  {
   "cell_type": "code",
   "execution_count": 54,
   "metadata": {
    "colab": {
     "base_uri": "https://localhost:8080/"
    },
    "id": "eYTuPnW5gBKW",
    "outputId": "4813dd79-a368-49ef-bac8-20652d9172ba"
   },
   "outputs": [
    {
     "data": {
      "text/plain": [
       "array([2, 6, 7, ..., 7, 0, 4], dtype=uint8)"
      ]
     },
     "execution_count": 54,
     "metadata": {
      "tags": []
     },
     "output_type": "execute_result"
    }
   ],
   "source": [
    "y_train"
   ]
  },
  {
   "cell_type": "code",
   "execution_count": 55,
   "metadata": {
    "colab": {
     "base_uri": "https://localhost:8080/"
    },
    "id": "J_FasrI83CYV",
    "outputId": "6d1fe2aa-2f2d-406a-eb44-3993eb815d0c"
   },
   "outputs": [
    {
     "name": "stdout",
     "output_type": "stream",
     "text": [
      "Check if X_train cotains anything that is not part of X_val: False\n",
      "----- 18.16865849494934 seconds -----\n"
     ]
    }
   ],
   "source": [
    "import time\n",
    "start_time = time.time()\n",
    "subset_bool = np.isin(X_train, X_val)\n",
    "print('Check if X_train cotains anything that is not part of X_val:', np.isin('False', subset_bool))\n",
    "print('----- %s seconds -----' % (time.time() - start_time))"
   ]
  },
  {
   "cell_type": "code",
   "execution_count": 56,
   "metadata": {
    "colab": {
     "base_uri": "https://localhost:8080/"
    },
    "id": "soAOWE3B8M03",
    "outputId": "820ba063-48b7-4e48-f79e-6ac85078ab84"
   },
   "outputs": [
    {
     "name": "stdout",
     "output_type": "stream",
     "text": [
      "Check if X_test cotains anything that is not part of X_val: False\n",
      "----- 11.155433893203735 seconds -----\n"
     ]
    }
   ],
   "source": [
    "import time\n",
    "start_time = time.time()\n",
    "subset_bool = np.isin(X_test, X_val)\n",
    "print('Check if X_test cotains anything that is not part of X_val:', np.isin('False', subset_bool))\n",
    "print('----- %s seconds -----' % (time.time() - start_time))"
   ]
  },
  {
   "cell_type": "markdown",
   "metadata": {
    "id": "tYcVGJEP-BpB"
   },
   "source": [
    "### Conclusion:\n",
    "- That means X_train and X_test are simply the subset of X_val\n",
    "- Similarly y_train and y_test are subsets of y_val"
   ]
  },
  {
   "cell_type": "markdown",
   "metadata": {
    "id": "AYAs_fqn-6-3"
   },
   "source": [
    "# 2. Reshape and normalize the train and test features (10 points)\n"
   ]
  },
  {
   "cell_type": "markdown",
   "metadata": {
    "id": "9njz5eS8A-qH"
   },
   "source": [
    "### Reshape 32x32 images into 1024 features flat array"
   ]
  },
  {
   "cell_type": "code",
   "execution_count": 57,
   "metadata": {
    "colab": {
     "base_uri": "https://localhost:8080/"
    },
    "id": "IPrGXlFzAfGW",
    "outputId": "7f4d95a0-705f-4ab1-b55f-51d31cc16a60"
   },
   "outputs": [
    {
     "name": "stdout",
     "output_type": "stream",
     "text": [
      "(42000, 32, 32) (18000, 32, 32)\n"
     ]
    }
   ],
   "source": [
    "print(X_train.shape, X_test.shape)"
   ]
  },
  {
   "cell_type": "code",
   "execution_count": 58,
   "metadata": {
    "id": "4_mmA62A-Lla"
   },
   "outputs": [],
   "source": [
    "X_train = np.reshape(X_train, (X_train.shape[0], 1024))\n",
    "X_test = np.reshape(X_test, (X_test.shape[0], 1024))"
   ]
  },
  {
   "cell_type": "code",
   "execution_count": 59,
   "metadata": {
    "colab": {
     "base_uri": "https://localhost:8080/"
    },
    "id": "kkoRb-2N-6H2",
    "outputId": "8e3cb621-927f-4611-a96d-36c98dd7b707"
   },
   "outputs": [
    {
     "name": "stdout",
     "output_type": "stream",
     "text": [
      "(42000, 1024) (18000, 1024)\n"
     ]
    }
   ],
   "source": [
    "print(X_train.shape, X_test.shape)"
   ]
  },
  {
   "cell_type": "code",
   "execution_count": 60,
   "metadata": {
    "colab": {
     "base_uri": "https://localhost:8080/"
    },
    "id": "cg7UzwhIPx17",
    "outputId": "43632ba4-3c90-4065-92ee-cf001b038c87"
   },
   "outputs": [
    {
     "name": "stdout",
     "output_type": "stream",
     "text": [
      "(60000, 1024)\n"
     ]
    }
   ],
   "source": [
    "X_val = np.reshape(X_val, (X_val.shape[0], 1024))\n",
    "print(X_val.shape)"
   ]
  },
  {
   "cell_type": "markdown",
   "metadata": {
    "id": "ltHW_AIWBJh6"
   },
   "source": [
    "### Standardize the train and test features"
   ]
  },
  {
   "cell_type": "code",
   "execution_count": 61,
   "metadata": {
    "colab": {
     "base_uri": "https://localhost:8080/"
    },
    "id": "oRUicJz2AIem",
    "outputId": "bf72b540-6448-49cb-b888-b9a97a6b9cc7"
   },
   "outputs": [
    {
     "name": "stdout",
     "output_type": "stream",
     "text": [
      "Min pixel value: 0.0, Max pixel value: 254.9745\n",
      "Min pixel value: 0.0, Max pixel value: 254.9745\n"
     ]
    }
   ],
   "source": [
    "print('Min pixel value: %s, Max pixel value: %s' %(X_train.min(),X_train.max()))\n",
    "print('Min pixel value: %s, Max pixel value: %s' %(X_test.min(),X_test.max()))"
   ]
  },
  {
   "cell_type": "markdown",
   "metadata": {
    "id": "Mzt7-ORFCLbw"
   },
   "source": [
    "- To standardize the features, we will simply divide each pixel value by 255 which is the max value."
   ]
  },
  {
   "cell_type": "code",
   "execution_count": 62,
   "metadata": {
    "colab": {
     "base_uri": "https://localhost:8080/"
    },
    "id": "iNUfs73tBP9_",
    "outputId": "d312c520-2fb0-48c9-b9b4-5c361a1a6408"
   },
   "outputs": [
    {
     "name": "stdout",
     "output_type": "stream",
     "text": [
      "Min pixel value: 0.0, Max pixel value: 0.9999\n",
      "Min pixel value: 0.0, Max pixel value: 0.9999\n"
     ]
    }
   ],
   "source": [
    "X_train /= 255.0\n",
    "print('Min pixel value: %s, Max pixel value: %s' %(X_train.min(),X_train.max()))\n",
    "X_test /= 255.0\n",
    "print('Min pixel value: %s, Max pixel value: %s' %(X_test.min(),X_test.max()))"
   ]
  },
  {
   "cell_type": "code",
   "execution_count": 63,
   "metadata": {
    "id": "l0x0bjtGP9Aq"
   },
   "outputs": [],
   "source": [
    "X_val /= 255.0\n"
   ]
  },
  {
   "cell_type": "markdown",
   "metadata": {
    "id": "-q5139DeCxH5"
   },
   "source": [
    "# 3. One hot encode the labels for train and test data (15 points)"
   ]
  },
  {
   "cell_type": "code",
   "execution_count": 64,
   "metadata": {
    "id": "tcO8Oj3mCwbN"
   },
   "outputs": [],
   "source": [
    "from tensorflow.keras.utils import to_categorical\n",
    "y_train = to_categorical(y_train, num_classes = 10)\n",
    "y_test = to_categorical(y_test, num_classes = 10)"
   ]
  },
  {
   "cell_type": "code",
   "execution_count": 65,
   "metadata": {
    "colab": {
     "base_uri": "https://localhost:8080/"
    },
    "id": "3zVkMo0qCZ8U",
    "outputId": "d246d45e-9e17-4d15-8f92-19adead0adcd"
   },
   "outputs": [
    {
     "name": "stdout",
     "output_type": "stream",
     "text": [
      "(42000, 10) (18000, 10)\n"
     ]
    }
   ],
   "source": [
    "print(y_train.shape, y_test.shape)"
   ]
  },
  {
   "cell_type": "code",
   "execution_count": 66,
   "metadata": {
    "colab": {
     "base_uri": "https://localhost:8080/"
    },
    "id": "B7LOG25JEWA0",
    "outputId": "2ac88952-6878-4123-fa41-6daf9cbe56b6"
   },
   "outputs": [
    {
     "data": {
      "text/plain": [
       "array([1., 0., 0., 0., 0., 0., 0., 0., 0., 0.], dtype=float32)"
      ]
     },
     "execution_count": 66,
     "metadata": {
      "tags": []
     },
     "output_type": "execute_result"
    }
   ],
   "source": [
    "y_train[100]"
   ]
  },
  {
   "cell_type": "code",
   "execution_count": 67,
   "metadata": {
    "id": "9cix91TCQBeO"
   },
   "outputs": [],
   "source": [
    "y_val = to_categorical(y_val, num_classes = 10)"
   ]
  },
  {
   "cell_type": "markdown",
   "metadata": {
    "id": "CAn3el_EEc4d"
   },
   "source": [
    "# 4. Define the model architecture using TensorFlow \n",
    "- with a flatten layer followed by dense layers with activation as ReLu and softmax (15 points)"
   ]
  },
  {
   "cell_type": "code",
   "execution_count": 79,
   "metadata": {
    "id": "8yHJ1rtZEcMq"
   },
   "outputs": [],
   "source": [
    "from tensorflow.keras.models import Sequential\n",
    "from tensorflow.keras.layers import InputLayer, Dense, Flatten, BatchNormalization, Activation\n",
    "from tensorflow.keras import optimizers"
   ]
  },
  {
   "cell_type": "code",
   "execution_count": 100,
   "metadata": {
    "id": "Y6SsY69REYH3"
   },
   "outputs": [],
   "source": [
    "model = Sequential()"
   ]
  },
  {
   "cell_type": "code",
   "execution_count": 101,
   "metadata": {
    "id": "IERt0HjHMk0Z"
   },
   "outputs": [],
   "source": [
    "# Neural Network with a Flatten layer followed by Relu activation layer, Batch Normalization layer, Hidden layer with 64 neurons, Relu activation, Batch normalization and \n",
    "# and hidden layer with 10 nodes followed by softmax activation function which finally gives 10 outputs.\n",
    "model.add(Flatten( input_shape=(1024,)))\n",
    "model.add(Activation('relu' ))\n",
    "model.add(BatchNormalization())\n",
    "model.add(Dense(64, activation='relu', kernel_initializer='he_normal'))\n",
    "model.add(BatchNormalization())\n",
    "model.add(Dense(10, activation='softmax'))"
   ]
  },
  {
   "cell_type": "markdown",
   "metadata": {
    "id": "6uSP1QW5ODYx"
   },
   "source": [
    "# 5. Compile the model (10 points)\n",
    "- with loss as categorical cross-entropy and adam optimizers. \n",
    "- Use accuracy as the metric for evaluation\n",
    "\n"
   ]
  },
  {
   "cell_type": "code",
   "execution_count": 102,
   "metadata": {
    "id": "cENRfQPEGCRW"
   },
   "outputs": [],
   "source": [
    "# Defining the Adam optimizer with amsgrad set to True and a learning rate of 0.001.\n",
    "adam = optimizers.Adam(learning_rate=0.001, amsgrad=True)\n",
    "\n",
    "# Compiling the model with Adam optimizer, Categorical cross entropy loss function and evaluating the model with accuracy metric.\n",
    "model.compile('adam', loss='CategoricalCrossentropy', metrics='accuracy')"
   ]
  },
  {
   "cell_type": "markdown",
   "metadata": {
    "id": "19NXbR2zOQKF"
   },
   "source": [
    "# 6. Fit and evaluate the model. (5 points)\n",
    "- Print the loss and accuracy for the test data "
   ]
  },
  {
   "cell_type": "code",
   "execution_count": 103,
   "metadata": {
    "colab": {
     "base_uri": "https://localhost:8080/"
    },
    "id": "ng-3lINrLP8c",
    "outputId": "9d3527b0-71e2-4337-e76e-2beded059d97"
   },
   "outputs": [
    {
     "name": "stdout",
     "output_type": "stream",
     "text": [
      "Epoch 1/100\n",
      "420/420 [==============================] - 4s 7ms/step - loss: 1.9048 - accuracy: 0.3669 - val_loss: 1.1703 - val_accuracy: 0.6759\n",
      "Epoch 2/100\n",
      "420/420 [==============================] - 3s 6ms/step - loss: 1.0923 - accuracy: 0.6733 - val_loss: 0.9384 - val_accuracy: 0.7257\n",
      "Epoch 3/100\n",
      "420/420 [==============================] - 3s 6ms/step - loss: 0.9457 - accuracy: 0.7161 - val_loss: 0.8432 - val_accuracy: 0.7553\n",
      "Epoch 4/100\n",
      "420/420 [==============================] - 3s 6ms/step - loss: 0.8379 - accuracy: 0.7468 - val_loss: 0.7752 - val_accuracy: 0.7764\n",
      "Epoch 5/100\n",
      "420/420 [==============================] - 3s 6ms/step - loss: 0.7835 - accuracy: 0.7669 - val_loss: 0.7490 - val_accuracy: 0.7807\n",
      "Epoch 6/100\n",
      "420/420 [==============================] - 3s 6ms/step - loss: 0.7484 - accuracy: 0.7743 - val_loss: 0.7249 - val_accuracy: 0.7903\n",
      "Epoch 7/100\n",
      "420/420 [==============================] - 3s 6ms/step - loss: 0.7134 - accuracy: 0.7862 - val_loss: 0.6989 - val_accuracy: 0.8022\n",
      "Epoch 8/100\n",
      "420/420 [==============================] - 3s 6ms/step - loss: 0.6860 - accuracy: 0.7927 - val_loss: 0.6748 - val_accuracy: 0.8077\n",
      "Epoch 9/100\n",
      "420/420 [==============================] - 3s 6ms/step - loss: 0.6515 - accuracy: 0.8054 - val_loss: 0.6916 - val_accuracy: 0.8042\n",
      "Epoch 10/100\n",
      "420/420 [==============================] - 3s 6ms/step - loss: 0.6440 - accuracy: 0.8083 - val_loss: 0.6633 - val_accuracy: 0.8092\n",
      "Epoch 11/100\n",
      "420/420 [==============================] - 3s 7ms/step - loss: 0.6199 - accuracy: 0.8149 - val_loss: 0.6434 - val_accuracy: 0.8176\n",
      "Epoch 12/100\n",
      "420/420 [==============================] - 3s 7ms/step - loss: 0.5981 - accuracy: 0.8166 - val_loss: 0.6410 - val_accuracy: 0.8209\n",
      "Epoch 13/100\n",
      "420/420 [==============================] - 2s 6ms/step - loss: 0.5939 - accuracy: 0.8210 - val_loss: 0.6393 - val_accuracy: 0.8182\n",
      "Epoch 14/100\n",
      "420/420 [==============================] - 2s 6ms/step - loss: 0.5981 - accuracy: 0.8180 - val_loss: 0.6082 - val_accuracy: 0.8294\n",
      "Epoch 15/100\n",
      "420/420 [==============================] - 2s 6ms/step - loss: 0.5820 - accuracy: 0.8262 - val_loss: 0.6295 - val_accuracy: 0.8221\n",
      "Epoch 16/100\n",
      "420/420 [==============================] - 2s 6ms/step - loss: 0.5699 - accuracy: 0.8295 - val_loss: 0.6061 - val_accuracy: 0.8294\n",
      "Epoch 17/100\n",
      "420/420 [==============================] - 2s 6ms/step - loss: 0.5723 - accuracy: 0.8265 - val_loss: 0.6065 - val_accuracy: 0.8311\n",
      "Epoch 18/100\n",
      "420/420 [==============================] - 2s 5ms/step - loss: 0.5649 - accuracy: 0.8310 - val_loss: 0.6120 - val_accuracy: 0.8302\n",
      "Epoch 19/100\n",
      "420/420 [==============================] - 3s 7ms/step - loss: 0.5400 - accuracy: 0.8364 - val_loss: 0.6206 - val_accuracy: 0.8259\n",
      "Epoch 20/100\n",
      "420/420 [==============================] - 3s 7ms/step - loss: 0.5496 - accuracy: 0.8340 - val_loss: 0.6081 - val_accuracy: 0.8292\n",
      "Epoch 21/100\n",
      "420/420 [==============================] - 2s 6ms/step - loss: 0.5411 - accuracy: 0.8356 - val_loss: 0.5810 - val_accuracy: 0.8397\n",
      "Epoch 22/100\n",
      "420/420 [==============================] - 2s 6ms/step - loss: 0.5435 - accuracy: 0.8353 - val_loss: 0.6202 - val_accuracy: 0.8247\n",
      "Epoch 23/100\n",
      "420/420 [==============================] - 3s 6ms/step - loss: 0.5339 - accuracy: 0.8378 - val_loss: 0.5903 - val_accuracy: 0.8363\n",
      "Epoch 24/100\n",
      "420/420 [==============================] - 2s 6ms/step - loss: 0.5141 - accuracy: 0.8431 - val_loss: 0.5714 - val_accuracy: 0.8419\n",
      "Epoch 25/100\n",
      "420/420 [==============================] - 2s 6ms/step - loss: 0.5081 - accuracy: 0.8478 - val_loss: 0.5763 - val_accuracy: 0.8394\n",
      "Epoch 26/100\n",
      "420/420 [==============================] - 2s 6ms/step - loss: 0.5145 - accuracy: 0.8464 - val_loss: 0.5782 - val_accuracy: 0.8382\n",
      "Epoch 27/100\n",
      "420/420 [==============================] - 2s 6ms/step - loss: 0.5255 - accuracy: 0.8428 - val_loss: 0.5822 - val_accuracy: 0.8397\n",
      "Epoch 28/100\n",
      "420/420 [==============================] - 2s 6ms/step - loss: 0.5100 - accuracy: 0.8462 - val_loss: 0.5711 - val_accuracy: 0.8419\n",
      "Epoch 29/100\n",
      "420/420 [==============================] - 2s 6ms/step - loss: 0.5014 - accuracy: 0.8479 - val_loss: 0.5935 - val_accuracy: 0.8369\n",
      "Epoch 30/100\n",
      "420/420 [==============================] - 2s 6ms/step - loss: 0.5097 - accuracy: 0.8451 - val_loss: 0.5656 - val_accuracy: 0.8449\n",
      "Epoch 31/100\n",
      "420/420 [==============================] - 2s 6ms/step - loss: 0.4931 - accuracy: 0.8496 - val_loss: 0.6084 - val_accuracy: 0.8321\n",
      "Epoch 32/100\n",
      "420/420 [==============================] - 3s 6ms/step - loss: 0.4937 - accuracy: 0.8513 - val_loss: 0.5683 - val_accuracy: 0.8445\n",
      "Epoch 33/100\n",
      "420/420 [==============================] - 3s 6ms/step - loss: 0.5004 - accuracy: 0.8508 - val_loss: 0.5948 - val_accuracy: 0.8354\n",
      "Epoch 34/100\n",
      "420/420 [==============================] - 3s 6ms/step - loss: 0.5004 - accuracy: 0.8476 - val_loss: 0.5872 - val_accuracy: 0.8384\n",
      "Epoch 35/100\n",
      "420/420 [==============================] - 3s 6ms/step - loss: 0.4933 - accuracy: 0.8503 - val_loss: 0.5786 - val_accuracy: 0.8412\n",
      "Epoch 36/100\n",
      "420/420 [==============================] - 3s 6ms/step - loss: 0.4924 - accuracy: 0.8507 - val_loss: 0.5619 - val_accuracy: 0.8464\n",
      "Epoch 37/100\n",
      "420/420 [==============================] - 3s 6ms/step - loss: 0.4818 - accuracy: 0.8545 - val_loss: 0.5858 - val_accuracy: 0.8415\n",
      "Epoch 38/100\n",
      "420/420 [==============================] - 3s 6ms/step - loss: 0.4832 - accuracy: 0.8548 - val_loss: 0.5892 - val_accuracy: 0.8386\n",
      "Epoch 39/100\n",
      "420/420 [==============================] - 3s 6ms/step - loss: 0.5054 - accuracy: 0.8478 - val_loss: 0.5571 - val_accuracy: 0.8483\n",
      "Epoch 40/100\n",
      "420/420 [==============================] - 4s 9ms/step - loss: 0.4700 - accuracy: 0.8562 - val_loss: 0.5613 - val_accuracy: 0.8492\n",
      "Epoch 41/100\n",
      "420/420 [==============================] - 4s 10ms/step - loss: 0.4919 - accuracy: 0.8505 - val_loss: 0.5773 - val_accuracy: 0.8427\n",
      "Epoch 42/100\n",
      "420/420 [==============================] - 3s 7ms/step - loss: 0.4837 - accuracy: 0.8543 - val_loss: 0.5622 - val_accuracy: 0.8492\n",
      "Epoch 43/100\n",
      "420/420 [==============================] - 3s 7ms/step - loss: 0.4633 - accuracy: 0.8588 - val_loss: 0.5716 - val_accuracy: 0.8464\n",
      "Epoch 44/100\n",
      "420/420 [==============================] - 3s 7ms/step - loss: 0.4626 - accuracy: 0.8600 - val_loss: 0.5841 - val_accuracy: 0.8422\n",
      "Epoch 45/100\n",
      "420/420 [==============================] - 3s 7ms/step - loss: 0.4736 - accuracy: 0.8593 - val_loss: 0.5707 - val_accuracy: 0.8433\n",
      "Epoch 46/100\n",
      "420/420 [==============================] - 3s 7ms/step - loss: 0.4559 - accuracy: 0.8612 - val_loss: 0.5710 - val_accuracy: 0.8464\n",
      "Epoch 47/100\n",
      "420/420 [==============================] - 3s 7ms/step - loss: 0.4618 - accuracy: 0.8596 - val_loss: 0.5870 - val_accuracy: 0.8411\n",
      "Epoch 48/100\n",
      "420/420 [==============================] - 3s 6ms/step - loss: 0.4631 - accuracy: 0.8571 - val_loss: 0.5980 - val_accuracy: 0.8384\n",
      "Epoch 49/100\n",
      "420/420 [==============================] - 2s 6ms/step - loss: 0.4715 - accuracy: 0.8584 - val_loss: 0.5688 - val_accuracy: 0.8472\n",
      "Epoch 50/100\n",
      "420/420 [==============================] - 2s 6ms/step - loss: 0.4642 - accuracy: 0.8605 - val_loss: 0.5601 - val_accuracy: 0.8490\n",
      "Epoch 51/100\n",
      "420/420 [==============================] - 2s 6ms/step - loss: 0.4635 - accuracy: 0.8570 - val_loss: 0.5611 - val_accuracy: 0.8499\n",
      "Epoch 52/100\n",
      "420/420 [==============================] - 2s 6ms/step - loss: 0.4483 - accuracy: 0.8634 - val_loss: 0.5690 - val_accuracy: 0.8479\n",
      "Epoch 53/100\n",
      "420/420 [==============================] - 2s 6ms/step - loss: 0.4701 - accuracy: 0.8579 - val_loss: 0.5518 - val_accuracy: 0.8531\n",
      "Epoch 54/100\n",
      "420/420 [==============================] - 3s 6ms/step - loss: 0.4416 - accuracy: 0.8645 - val_loss: 0.5929 - val_accuracy: 0.8429\n",
      "Epoch 55/100\n",
      "420/420 [==============================] - 3s 6ms/step - loss: 0.4543 - accuracy: 0.8590 - val_loss: 0.5732 - val_accuracy: 0.8466\n",
      "Epoch 56/100\n",
      "420/420 [==============================] - 2s 5ms/step - loss: 0.4439 - accuracy: 0.8630 - val_loss: 0.5691 - val_accuracy: 0.8502\n",
      "Epoch 57/100\n",
      "420/420 [==============================] - 2s 5ms/step - loss: 0.4547 - accuracy: 0.8600 - val_loss: 0.5569 - val_accuracy: 0.8536\n",
      "Epoch 58/100\n",
      "420/420 [==============================] - 3s 6ms/step - loss: 0.4584 - accuracy: 0.8602 - val_loss: 0.5789 - val_accuracy: 0.8458\n",
      "Epoch 59/100\n",
      "420/420 [==============================] - 3s 7ms/step - loss: 0.4552 - accuracy: 0.8576 - val_loss: 0.5629 - val_accuracy: 0.8503\n",
      "Epoch 60/100\n",
      "420/420 [==============================] - 3s 6ms/step - loss: 0.4542 - accuracy: 0.8606 - val_loss: 0.5611 - val_accuracy: 0.8525\n",
      "Epoch 61/100\n",
      "420/420 [==============================] - 3s 7ms/step - loss: 0.4380 - accuracy: 0.8666 - val_loss: 0.5959 - val_accuracy: 0.8414\n",
      "Epoch 62/100\n",
      "420/420 [==============================] - 3s 7ms/step - loss: 0.4369 - accuracy: 0.8666 - val_loss: 0.5836 - val_accuracy: 0.8456\n",
      "Epoch 63/100\n",
      "420/420 [==============================] - 3s 7ms/step - loss: 0.4494 - accuracy: 0.8634 - val_loss: 0.5597 - val_accuracy: 0.8508\n",
      "Epoch 64/100\n",
      "420/420 [==============================] - 3s 7ms/step - loss: 0.4376 - accuracy: 0.8657 - val_loss: 0.5766 - val_accuracy: 0.8479\n",
      "Epoch 65/100\n",
      "420/420 [==============================] - 3s 7ms/step - loss: 0.4411 - accuracy: 0.8631 - val_loss: 0.5683 - val_accuracy: 0.8499\n",
      "Epoch 66/100\n",
      "420/420 [==============================] - 3s 6ms/step - loss: 0.4339 - accuracy: 0.8665 - val_loss: 0.5651 - val_accuracy: 0.8497\n",
      "Epoch 67/100\n",
      "420/420 [==============================] - 3s 7ms/step - loss: 0.4456 - accuracy: 0.8660 - val_loss: 0.5679 - val_accuracy: 0.8475\n",
      "Epoch 68/100\n",
      "420/420 [==============================] - 3s 7ms/step - loss: 0.4365 - accuracy: 0.8649 - val_loss: 0.5733 - val_accuracy: 0.8503\n",
      "Epoch 69/100\n",
      "420/420 [==============================] - 3s 7ms/step - loss: 0.4298 - accuracy: 0.8693 - val_loss: 0.5717 - val_accuracy: 0.8502\n",
      "Epoch 70/100\n",
      "420/420 [==============================] - 2s 5ms/step - loss: 0.4382 - accuracy: 0.8675 - val_loss: 0.5641 - val_accuracy: 0.8532\n",
      "Epoch 71/100\n",
      "420/420 [==============================] - 2s 5ms/step - loss: 0.4382 - accuracy: 0.8668 - val_loss: 0.5704 - val_accuracy: 0.8507\n",
      "Epoch 72/100\n",
      "420/420 [==============================] - 2s 5ms/step - loss: 0.4185 - accuracy: 0.8733 - val_loss: 0.5640 - val_accuracy: 0.8493\n",
      "Epoch 73/100\n",
      "420/420 [==============================] - 2s 5ms/step - loss: 0.4311 - accuracy: 0.8670 - val_loss: 0.5630 - val_accuracy: 0.8521\n",
      "Epoch 74/100\n",
      "420/420 [==============================] - 2s 5ms/step - loss: 0.4280 - accuracy: 0.8678 - val_loss: 0.5739 - val_accuracy: 0.8493\n",
      "Epoch 75/100\n",
      "420/420 [==============================] - 2s 5ms/step - loss: 0.4385 - accuracy: 0.8632 - val_loss: 0.5839 - val_accuracy: 0.8452\n",
      "Epoch 76/100\n",
      "420/420 [==============================] - 2s 5ms/step - loss: 0.4242 - accuracy: 0.8690 - val_loss: 0.5551 - val_accuracy: 0.8542\n",
      "Epoch 77/100\n",
      "420/420 [==============================] - 2s 5ms/step - loss: 0.4301 - accuracy: 0.8682 - val_loss: 0.5648 - val_accuracy: 0.8534\n",
      "Epoch 78/100\n",
      "420/420 [==============================] - 2s 6ms/step - loss: 0.4305 - accuracy: 0.8668 - val_loss: 0.5782 - val_accuracy: 0.8476\n",
      "Epoch 79/100\n",
      "420/420 [==============================] - 2s 6ms/step - loss: 0.4284 - accuracy: 0.8685 - val_loss: 0.5759 - val_accuracy: 0.8498\n",
      "Epoch 80/100\n",
      "420/420 [==============================] - 2s 6ms/step - loss: 0.4311 - accuracy: 0.8635 - val_loss: 0.5740 - val_accuracy: 0.8498\n",
      "Epoch 81/100\n",
      "420/420 [==============================] - 2s 6ms/step - loss: 0.4345 - accuracy: 0.8682 - val_loss: 0.5731 - val_accuracy: 0.8484\n",
      "Epoch 82/100\n",
      "420/420 [==============================] - 2s 5ms/step - loss: 0.4373 - accuracy: 0.8677 - val_loss: 0.5568 - val_accuracy: 0.8564\n",
      "Epoch 83/100\n",
      "420/420 [==============================] - 2s 5ms/step - loss: 0.4229 - accuracy: 0.8694 - val_loss: 0.5758 - val_accuracy: 0.8511\n",
      "Epoch 84/100\n",
      "420/420 [==============================] - 2s 5ms/step - loss: 0.4240 - accuracy: 0.8684 - val_loss: 0.5724 - val_accuracy: 0.8521\n",
      "Epoch 85/100\n",
      "420/420 [==============================] - 2s 5ms/step - loss: 0.4173 - accuracy: 0.8696 - val_loss: 0.5633 - val_accuracy: 0.8496\n",
      "Epoch 86/100\n",
      "420/420 [==============================] - 2s 5ms/step - loss: 0.4334 - accuracy: 0.8677 - val_loss: 0.5530 - val_accuracy: 0.8570\n",
      "Epoch 87/100\n",
      "420/420 [==============================] - 2s 5ms/step - loss: 0.4218 - accuracy: 0.8714 - val_loss: 0.5730 - val_accuracy: 0.8515\n",
      "Epoch 88/100\n",
      "420/420 [==============================] - 2s 6ms/step - loss: 0.4130 - accuracy: 0.8730 - val_loss: 0.5722 - val_accuracy: 0.8514\n",
      "Epoch 89/100\n",
      "420/420 [==============================] - 2s 6ms/step - loss: 0.4311 - accuracy: 0.8669 - val_loss: 0.5627 - val_accuracy: 0.8540\n",
      "Epoch 90/100\n",
      "420/420 [==============================] - 2s 6ms/step - loss: 0.4254 - accuracy: 0.8686 - val_loss: 0.5949 - val_accuracy: 0.8452\n",
      "Epoch 91/100\n",
      "420/420 [==============================] - 2s 5ms/step - loss: 0.4277 - accuracy: 0.8686 - val_loss: 0.5586 - val_accuracy: 0.8547\n",
      "Epoch 92/100\n",
      "420/420 [==============================] - 3s 6ms/step - loss: 0.4235 - accuracy: 0.8696 - val_loss: 0.5785 - val_accuracy: 0.8493\n",
      "Epoch 93/100\n",
      "420/420 [==============================] - 3s 7ms/step - loss: 0.4182 - accuracy: 0.8723 - val_loss: 0.5605 - val_accuracy: 0.8528\n",
      "Epoch 94/100\n",
      "420/420 [==============================] - 3s 7ms/step - loss: 0.4020 - accuracy: 0.8760 - val_loss: 0.5824 - val_accuracy: 0.8477\n",
      "Epoch 95/100\n",
      "420/420 [==============================] - 3s 6ms/step - loss: 0.4227 - accuracy: 0.8689 - val_loss: 0.5859 - val_accuracy: 0.8493\n",
      "Epoch 96/100\n",
      "420/420 [==============================] - 2s 6ms/step - loss: 0.4109 - accuracy: 0.8729 - val_loss: 0.5609 - val_accuracy: 0.8557\n",
      "Epoch 97/100\n",
      "420/420 [==============================] - 2s 5ms/step - loss: 0.4218 - accuracy: 0.8694 - val_loss: 0.5643 - val_accuracy: 0.8537\n",
      "Epoch 98/100\n",
      "420/420 [==============================] - 3s 7ms/step - loss: 0.4125 - accuracy: 0.8740 - val_loss: 0.5732 - val_accuracy: 0.8496\n",
      "Epoch 99/100\n",
      "420/420 [==============================] - 3s 7ms/step - loss: 0.4175 - accuracy: 0.8729 - val_loss: 0.5727 - val_accuracy: 0.8507\n",
      "Epoch 100/100\n",
      "420/420 [==============================] - 3s 7ms/step - loss: 0.3988 - accuracy: 0.8761 - val_loss: 0.5818 - val_accuracy: 0.8485\n"
     ]
    },
    {
     "data": {
      "text/plain": [
       "<tensorflow.python.keras.callbacks.History at 0x7f2bda48b0b8>"
      ]
     },
     "execution_count": 103,
     "metadata": {
      "tags": []
     },
     "output_type": "execute_result"
    }
   ],
   "source": [
    "# Fitting the model with a batch size of 100 and 100 epochs (iterations). Also printing the validation loss and accuracy\n",
    "model.fit(X_train, y_train, batch_size=100, epochs=100, validation_data=(X_test, y_test))"
   ]
  },
  {
   "cell_type": "code",
   "execution_count": 104,
   "metadata": {
    "colab": {
     "base_uri": "https://localhost:8080/"
    },
    "id": "-5-UbcuxGd1Q",
    "outputId": "64216afe-6b2f-426b-ee76-8af40bea1a77"
   },
   "outputs": [
    {
     "name": "stdout",
     "output_type": "stream",
     "text": [
      "Model: \"sequential_5\"\n",
      "_________________________________________________________________\n",
      "Layer (type)                 Output Shape              Param #   \n",
      "=================================================================\n",
      "flatten_6 (Flatten)          (None, 1024)              0         \n",
      "_________________________________________________________________\n",
      "activation_3 (Activation)    (None, 1024)              0         \n",
      "_________________________________________________________________\n",
      "batch_normalization_11 (Batc (None, 1024)              4096      \n",
      "_________________________________________________________________\n",
      "dense_13 (Dense)             (None, 64)                65600     \n",
      "_________________________________________________________________\n",
      "batch_normalization_12 (Batc (None, 64)                256       \n",
      "_________________________________________________________________\n",
      "dense_14 (Dense)             (None, 10)                650       \n",
      "=================================================================\n",
      "Total params: 70,602\n",
      "Trainable params: 68,426\n",
      "Non-trainable params: 2,176\n",
      "_________________________________________________________________\n"
     ]
    }
   ],
   "source": [
    "#The model uses around 68 K trainable parameters\n",
    "model.summary()"
   ]
  },
  {
   "cell_type": "code",
   "execution_count": 105,
   "metadata": {
    "colab": {
     "base_uri": "https://localhost:8080/"
    },
    "id": "2hsM88rWGTG1",
    "outputId": "46847c34-3cdb-421d-bb1e-b758aad79098"
   },
   "outputs": [
    {
     "name": "stdout",
     "output_type": "stream",
     "text": [
      "1875/1875 [==============================] - 3s 2ms/step - loss: 0.4110 - accuracy: 0.8852\n"
     ]
    },
    {
     "data": {
      "text/plain": [
       "[0.41098451614379883, 0.8851833343505859]"
      ]
     },
     "execution_count": 105,
     "metadata": {
      "tags": []
     },
     "output_type": "execute_result"
    }
   ],
   "source": [
    "# Model gives around 88% accuracy with the full dataset X_val (X_train + X_test)\n",
    "model.evaluate(X_val, y_val)"
   ]
  },
  {
   "cell_type": "code",
   "execution_count": 106,
   "metadata": {
    "colab": {
     "base_uri": "https://localhost:8080/"
    },
    "id": "xyddTMqYPRED",
    "outputId": "f2e7e311-08ce-4c77-8f18-3803655317d9"
   },
   "outputs": [
    {
     "name": "stdout",
     "output_type": "stream",
     "text": [
      "563/563 [==============================] - 1s 2ms/step - loss: 0.5818 - accuracy: 0.8485\n"
     ]
    },
    {
     "data": {
      "text/plain": [
       "[0.5818215608596802, 0.8485000133514404]"
      ]
     },
     "execution_count": 106,
     "metadata": {
      "tags": []
     },
     "output_type": "execute_result"
    }
   ],
   "source": [
    "# Model gives around 84% accuracy with the test data\n",
    "model.evaluate(X_test, y_test)"
   ]
  },
  {
   "cell_type": "markdown",
   "metadata": {
    "id": "XE5f6PVLOoot"
   },
   "source": [
    "# Conclusion:\n",
    "The neural networks model gives an accuracy of 84.85% over the test dataset."
   ]
  }
 ],
 "metadata": {
  "colab": {
   "collapsed_sections": [],
   "name": "Neural Networks project - SVHN Google street view dataset.ipynb",
   "provenance": []
  },
  "kernelspec": {
   "display_name": "Python 3",
   "language": "python",
   "name": "python3"
  },
  "language_info": {
   "codemirror_mode": {
    "name": "ipython",
    "version": 3
   },
   "file_extension": ".py",
   "mimetype": "text/x-python",
   "name": "python",
   "nbconvert_exporter": "python",
   "pygments_lexer": "ipython3",
   "version": "3.7.6"
  }
 },
 "nbformat": 4,
 "nbformat_minor": 1
}
