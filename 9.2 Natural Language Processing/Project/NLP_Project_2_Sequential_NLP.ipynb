{
 "cells": [
  {
   "cell_type": "markdown",
   "metadata": {
    "id": "niHaqz9L4b5W"
   },
   "source": [
    "# PART 1 \n",
    "## DOMAIN: Digital content and entertainment industry\n",
    "### CONTEXT: \n",
    "The objective of this project is to build a text classification model that  analyses the customer's sentiments based on their reviews in the IMDB database. The model uses a complex deep learning model to build an embedding layer followed by a classification algorithm to analyse the sentiment of the customers.\n",
    "\n",
    "### DATA DESCRIPTION: \n",
    "The Dataset of 50,000 movie reviews from IMDB, labelled by sentiment (positive/negative). Reviews have been preprocessed, and each review is encoded as a sequence of word indexes (integers). For convenience, the words are \n",
    "indexed by their frequency in the dataset, meaning the for that has index 1 is the most frequent word. Use the first 20 words from each review to speed up training, using a max vocabulary size of 10,000. As a convention, \"0\" does not stand for a specific word, but instead is used to encode any unknown word.\n",
    "\n",
    "## PROJECT OBJECTIVE: \n",
    "Build a sequential NLP classifier which can use input text parameters to determine the customer sentiments.\n",
    "\n",
    "### Steps and tasks: [ Total Score: 30 points]\n",
    "1. Import and analyse the data set.\n",
    "Hint: - Use `imdb.load_data()` method\n",
    " - Get train and test set\n",
    " - Take 10000 most frequent words\n",
    "2. Perform relevant sequence adding on the data\n",
    "3. Perform following data analysis:\n",
    " - Print shape of features and labels\n",
    " - Print value of any one feature and it's label\n",
    "4. Decode the feature value to get original sentence\n",
    "5. Design, train, tune and test a sequential model. \n",
    "Hint: The aim here Is to import the text, process it such a way that it can be taken as an inout to the ML/NN classifiers. Be analytical and experimental here in trying new approaches to design the best model.\n",
    "6. Use the designed model to print the prediction on any one sample."
   ]
  },
  {
   "cell_type": "code",
   "execution_count": null,
   "metadata": {
    "id": "OjR52yuR4Na1"
   },
   "outputs": [],
   "source": [
    "import tensorflow\n",
    "tensorflow.__version__\n",
    "\n",
    "import random\n",
    "random.seed(0)\n",
    "\n",
    "import warnings\n",
    "warnings.filterwarnings('ignore')"
   ]
  },
  {
   "cell_type": "code",
   "execution_count": null,
   "metadata": {
    "colab": {
     "base_uri": "https://localhost:8080/"
    },
    "id": "zuh5jpLY593O",
    "outputId": "a8eb7889-f0df-4cf1-f8f4-2ceba71e0aba"
   },
   "outputs": [
    {
     "name": "stdout",
     "output_type": "stream",
     "text": [
      "Mounted at /content/drive\n"
     ]
    }
   ],
   "source": [
    "from google.colab import drive\n",
    "drive.mount('/content/drive')"
   ]
  },
  {
   "cell_type": "code",
   "execution_count": null,
   "metadata": {
    "id": "nGAbla0I6Azb"
   },
   "outputs": [],
   "source": [
    "project_path = '/content/drive/MyDrive/Colab/NLP/Project2/'"
   ]
  },
  {
   "cell_type": "markdown",
   "metadata": {
    "id": "tPagaNT6SuEs"
   },
   "source": [
    "### 1. Import and analyse the data set.\n",
    "Hint: - Use `imdb.load_data()` method\n",
    " - Get train and test set\n",
    " - Take 10000 most frequent words"
   ]
  },
  {
   "cell_type": "code",
   "execution_count": null,
   "metadata": {
    "id": "VhBe-UeZ6N9P"
   },
   "outputs": [],
   "source": [
    "from tensorflow.keras.datasets import imdb\n",
    "(X_train, y_train), (X_test, y_test) = imdb.load_data(num_words=10000, seed=0)"
   ]
  },
  {
   "cell_type": "code",
   "execution_count": null,
   "metadata": {
    "colab": {
     "base_uri": "https://localhost:8080/"
    },
    "id": "-4y-X8_I9hxn",
    "outputId": "46ff8782-5fdc-4394-9943-cbd2729b0b37"
   },
   "outputs": [
    {
     "name": "stdout",
     "output_type": "stream",
     "text": [
      "(25000,) (25000,) (25000,) (25000,)\n"
     ]
    }
   ],
   "source": [
    "print(X_train.shape, y_train.shape, X_test.shape, y_test.shape)"
   ]
  },
  {
   "cell_type": "code",
   "execution_count": null,
   "metadata": {
    "colab": {
     "base_uri": "https://localhost:8080/"
    },
    "id": "BytEEB_RDEiL",
    "outputId": "da09b8c9-8044-4397-8cff-9ac2d11f2d31"
   },
   "outputs": [
    {
     "data": {
      "text/plain": [
       "array([list([1, 4078, 2, 9, 448, 725, 4, 2, 241, 2, 241, 38, 111, 2, 500, 40, 91, 374, 500, 679, 102, 13, 62, 135, 4, 2159, 92, 7241, 83, 6, 275, 3449, 66, 73, 5, 15, 271, 18, 14, 31, 99, 2149, 10, 10, 225, 6, 184, 196, 8127, 63, 2568, 5, 732, 4, 863, 18, 4, 65, 5, 4, 1397, 1111, 23, 63, 6, 564, 4892, 2, 5, 27, 476, 577, 2, 2, 2, 5, 492, 2, 2, 2, 216, 8, 847, 83, 4, 9370, 92, 168, 32, 99, 2575, 5, 515, 195, 481, 2017, 9, 348, 44, 4, 2, 23, 4, 1111, 8, 789, 2, 280, 4, 2, 517, 2, 10, 10, 1958, 5, 1364, 183, 380, 8, 140, 2, 5, 263, 6308, 140, 23, 6, 1973, 3318, 187, 4, 3450, 8, 1974, 618, 51, 9, 1448, 23, 14, 2, 1111, 19, 94, 680, 5818, 21, 11, 882, 25, 80, 24, 1414, 19, 803, 170, 23, 17, 2, 5, 2447, 2953, 79, 1376, 11, 8, 2, 4, 114, 60, 53, 51, 16, 66, 3742, 12, 83, 4, 5513, 7, 78, 212, 26, 94, 2, 1815, 2611, 46, 7, 4, 5797, 388, 63, 43, 2266, 5342, 2, 33, 94, 2099, 3002, 366, 45, 1852, 76, 303, 45, 31, 155, 269, 8, 216, 56, 5, 984, 142, 1393, 21, 160, 155, 399, 12, 4521, 5, 19, 2, 2380, 10, 10, 466, 12, 2, 11, 467, 1552, 234, 13, 104, 45, 6, 189, 20, 5682, 8, 28, 15, 17, 6, 9848, 2, 12, 408, 15, 220, 107, 534, 235, 19, 94, 550, 2, 8, 376, 51, 12, 494, 8, 183, 895, 8, 1261, 56, 1841, 4, 236, 891, 234, 21, 45, 6, 356, 420, 7, 99, 117, 99, 522, 10, 10, 51, 3220, 4, 20, 9, 89, 12, 1443, 2, 5, 94, 3411, 33, 4, 130, 174, 14, 9, 6, 1141, 2701, 343, 8, 353, 5, 9330, 6, 1573, 606, 189, 20, 83, 142, 6, 117, 227, 1727, 11, 4, 440, 7, 2, 35, 311, 12, 679, 46, 247, 2, 21, 889, 6, 78, 2, 17, 490, 235, 4563, 643, 50, 26, 107, 771, 6, 1009, 80, 97, 25, 235, 12, 345, 2, 4, 20, 8, 6, 906, 651, 42, 1568, 25, 19, 15, 5667, 547, 472, 4078, 2, 2, 53, 8, 4, 1569, 10, 10, 4, 1907, 1698, 80, 30, 94, 627, 19, 94, 361, 7, 641, 3788, 5, 6048, 21, 13, 80, 30, 15, 3759, 45, 131, 24, 290, 4, 58, 38, 128, 8, 798, 14]),\n",
       "       list([1, 25, 128, 67, 14, 390, 39, 4, 454, 88, 48, 25, 380, 8, 106, 12, 101, 303, 25, 80, 30, 1471, 17, 8, 51, 9, 1448, 8, 2, 113, 10, 10, 246, 15, 9, 4, 1009, 2595, 9, 1571, 11, 35, 4752, 635, 2, 9, 4011, 8, 90, 6591, 416, 91, 7, 27, 2977, 5, 9, 11, 6, 6957, 688, 8, 4, 3026, 1704, 54, 29, 2, 8, 717, 2595, 11, 4, 1811, 7, 4, 201, 5727, 9, 1021, 8, 6994, 44, 4, 64, 1813, 9, 27, 91, 4295, 464, 8038, 37, 131, 2251, 11, 37, 29, 9, 5, 449, 1243, 29, 152, 28, 101, 2, 29, 9, 11, 6, 1752, 5924, 18, 1489, 309, 11, 6, 939, 182, 121, 29, 127, 28, 1722, 5, 9, 2, 18, 3354, 38, 1212, 39, 8038, 50, 9, 31, 1397, 822, 37, 2251, 11, 2595, 6, 328, 132, 37, 11, 4, 4752, 635, 9, 82, 6, 4927, 7, 4, 5924, 37, 2251, 29, 9, 39, 4599, 10, 10, 2595, 215, 789, 283, 8, 285, 29, 2251, 9, 779, 635, 5, 24, 79, 2, 34, 4, 2, 3702, 37, 9, 11, 192, 4, 2770, 4925, 3254, 2, 10, 10, 14, 390, 9, 1254, 330, 4024, 5, 1621, 935, 12, 1568, 6, 1476, 1009, 39, 4, 644, 552, 7, 2, 390]),\n",
       "       list([1, 14, 9, 31, 7, 148, 102, 198, 269, 8, 30, 4378, 5, 3094, 5, 305, 630, 56, 2, 32, 120, 410, 260, 110, 12, 33, 6, 2, 22, 1413, 13, 16, 3704, 34, 4, 185, 1170, 2, 825, 355, 901, 56, 190, 120, 32, 1054, 56, 179, 685, 10, 10, 45, 254, 8, 6167, 6, 283, 65, 237, 225, 24, 76, 15, 70, 30, 224, 44, 4, 114, 21, 13, 258, 14, 4229, 3650, 5, 5028, 2279, 45, 465, 5, 220, 2950, 3370, 6, 5503, 948, 3174, 7, 4, 4039, 19, 2, 228, 5, 8656, 491, 1969, 12, 43, 152, 157, 49, 139, 121, 38, 954, 15, 305, 7, 2, 4299, 61, 311, 16, 2, 2, 5, 2660, 523, 10, 10, 4, 65, 47, 35, 221, 863, 21, 14, 43, 2, 2, 83, 6, 465, 4309, 7941]),\n",
       "       list([1, 13, 28, 110, 14, 22, 1942, 211, 5, 18, 4, 113, 7, 72, 13, 566, 391, 138, 49, 84, 1661, 14, 8, 4545, 14, 22, 9, 24, 44, 4, 1003, 113, 7, 32, 1389, 37, 4549, 70, 740, 305, 12, 9, 44, 6, 7473, 37, 2271, 8, 740, 8, 339, 27, 2056, 6, 117, 250, 19, 6, 622, 2, 3083, 41, 2491, 2, 64, 8, 30, 6396, 39, 41, 11, 6, 483, 6147, 136, 402, 23, 95, 4, 87, 1311, 778, 4196, 4, 7473, 732, 46, 8, 353, 5, 169, 27, 31, 87, 464, 2151, 10, 10, 367, 4, 96, 29, 892, 450, 389, 84, 5, 1942, 1606, 84, 29, 734, 11, 119, 19, 6, 250, 7473, 5, 1978, 41, 29, 214, 2, 83, 6, 113, 7, 823, 5, 95, 2004, 34, 6, 78, 1656, 37, 494, 8, 6471, 90, 10, 10, 29, 2, 27, 787, 8, 6, 2259, 9171, 11, 4, 3491, 37, 4443, 8, 339, 90, 1090, 5, 169, 27, 2762, 2151, 10, 10, 1223, 2, 3144, 17, 4, 7880, 9171, 37, 47, 35, 911, 330, 5, 194, 483, 5, 37, 2, 8, 339, 117, 4196, 466, 4, 9692, 3066, 2, 299, 4, 544, 7, 4, 7473, 5, 31, 7, 4, 6119, 105, 29, 266, 638, 10, 10, 50, 9, 6, 117, 9599, 1101, 21, 14, 22, 9, 2316, 18, 91, 362, 5, 60, 53, 38, 48, 4, 846, 2883, 11, 23, 4, 253, 5, 106, 99, 12, 9, 6, 1920, 1096, 1711, 1626, 1154, 65, 5, 1116, 6, 87, 119, 65, 44, 6, 3998, 5, 27, 117, 250, 29, 1787, 18, 2151, 630, 19, 6, 179, 35, 2076, 866, 18, 91, 84, 37, 1561, 830, 124, 76, 44, 2, 10, 10, 362, 37, 28, 110, 4, 1358, 1419, 7473, 2, 11, 3653, 4305, 5, 2, 80, 262, 4275, 39, 319, 14, 22, 5, 1897, 15, 3796, 262, 2, 26, 24, 2, 9327, 32, 476, 2587, 80, 67, 15, 9327, 812, 933, 2, 533, 5, 15, 4, 119, 5, 5079, 7, 6, 912, 42, 7473, 9, 6, 3470, 8, 30, 2, 10, 10, 38, 57, 4545, 133, 53, 7, 35, 1048, 1311, 19, 6, 1009, 10, 10, 358, 5, 353, 57, 8, 3325, 56, 315, 4, 619, 531]),\n",
       "       list([1, 903, 393, 12, 4, 477, 811, 709, 16, 31, 7, 4, 249, 2187, 11, 101, 123, 207, 126, 510, 669, 207, 115, 258, 2245, 8630, 8, 236, 6, 226, 811, 21, 48, 25, 1919, 14, 123, 34, 4, 236, 811, 7, 265, 45, 170, 8, 216, 638, 17, 4554, 15, 9, 35, 1097, 5093, 2, 88, 15, 5819, 123, 16, 11, 94, 251, 6, 530, 5, 642, 2900, 44, 6, 2, 999, 5, 89, 4, 84, 37, 1452, 50, 1173, 38, 275, 74, 75, 26, 133, 11, 682, 211, 10, 10, 32, 208, 7354, 811, 709, 10, 10, 2, 1698, 381, 17, 2127, 2, 6, 6751, 7401, 7, 6, 2343, 19, 6, 2, 119, 7, 4207, 3021, 2, 4, 4944, 250, 375, 1312, 395, 68, 369, 1738, 6687, 4861, 2, 2, 2354, 2, 2, 2, 5, 60, 2, 2, 2, 202, 777, 354, 11, 220, 175, 390, 4, 118, 31, 9, 242, 2, 6, 2189, 5116, 1475, 37, 9, 17, 2985, 2, 17, 36, 79, 51, 704, 9, 29, 39, 353, 8, 822, 12, 46, 18, 160, 4961, 7, 722, 7167, 8133, 2, 5, 2, 1259, 26, 6814, 17, 2, 846, 2, 17, 5685, 9, 199, 2, 5, 1047, 432, 7, 40, 2015, 4143, 892, 2151, 2, 137, 8317, 767, 2981, 1424, 8, 2337, 4, 2, 46, 7, 316, 1561, 5315, 5, 2, 3338, 297, 55, 73, 1961, 257, 85, 17, 2, 846, 4, 2, 21, 1451, 2046, 5, 4, 2, 2, 4044, 7524, 47, 2552, 3329, 17, 4892, 6, 2, 37, 1421, 17, 6, 336, 822, 8, 4861, 10, 10, 972, 39, 4, 2, 4013, 15, 1719, 56, 179, 3022, 5, 4, 120, 4, 350, 3080, 15, 518, 216, 5, 15, 2, 477, 811, 5819, 9, 6, 1307, 123, 19, 480, 487, 1466, 23, 458, 5, 6, 235, 52, 8249, 2, 143, 175, 390, 507, 32, 2659])],\n",
       "      dtype=object)"
      ]
     },
     "execution_count": 140,
     "metadata": {
      "tags": []
     },
     "output_type": "execute_result"
    }
   ],
   "source": [
    "X_train[:5]"
   ]
  },
  {
   "cell_type": "code",
   "execution_count": null,
   "metadata": {
    "colab": {
     "base_uri": "https://localhost:8080/"
    },
    "id": "qLrW4DZDlG8G",
    "outputId": "bf0c2ee2-aaaa-455e-a4a2-b3b7eef0a230"
   },
   "outputs": [
    {
     "data": {
      "text/plain": [
       "array([0, 1, 0, 1, 1])"
      ]
     },
     "execution_count": 141,
     "metadata": {
      "tags": []
     },
     "output_type": "execute_result"
    }
   ],
   "source": [
    "y_train[:5]"
   ]
  },
  {
   "cell_type": "code",
   "execution_count": null,
   "metadata": {
    "colab": {
     "base_uri": "https://localhost:8080/"
    },
    "id": "nPXTbGaSlit0",
    "outputId": "8ab205ce-34a2-4a0e-a821-53f698afdb08"
   },
   "outputs": [
    {
     "data": {
      "text/plain": [
       "array([list([1, 13, 244, 8841, 8, 67, 15, 38, 111, 84, 28, 348, 1123, 857, 18, 14, 22, 14, 20, 47, 57, 1653, 6229, 4, 228, 9, 24, 52, 4, 116, 9, 1235, 13, 28, 6, 878, 58, 1897, 89, 294, 100, 358, 14, 20, 387, 584, 1941, 94, 2, 4, 326, 9, 527, 813, 139, 7331, 8, 4, 114, 141, 17, 4, 3501, 119, 65, 60, 151, 4, 915, 731, 602, 9, 6, 2, 419, 26, 38, 78, 15, 13, 473, 8, 81, 546, 2, 5395, 137, 149, 98, 4, 192, 15, 50, 9, 136, 11, 63, 6, 2, 419, 4137, 467, 6, 8190, 3738, 38, 29, 70, 235, 41, 56, 5, 59, 1232, 12, 9, 282, 195, 18, 316, 3445, 19, 14, 22, 8, 2, 4, 4304, 8, 1263, 499, 65, 70, 64, 30, 6, 9091, 237, 8, 2892, 141, 6, 87, 20, 11, 141, 6, 527, 31, 9, 6117, 584, 8, 2330, 32, 4651, 7, 14, 20, 8, 97, 6, 196, 65, 346, 14, 22, 9, 527, 11, 175, 96, 5, 48, 13, 69, 61, 96, 316, 37, 1232, 12, 144, 140, 730, 8, 609]),\n",
       "       list([1, 6, 2, 11, 1360, 479, 9, 31, 7, 4, 3516, 7, 87, 108, 46, 50, 15, 8632, 1015, 8, 30, 446, 6, 356, 12, 16, 4, 431, 15, 93, 2, 1983, 2, 6, 2, 7, 22, 231, 33, 4, 58, 5, 639, 12, 9, 131, 2032, 17, 4, 389, 418, 7, 438, 12, 210, 47, 77, 10, 10, 9, 6, 22, 15, 738, 8, 30, 110, 17, 31, 2, 24, 8, 30, 1637, 33, 92, 43, 106, 148, 4968, 287, 121, 36, 64, 984, 4, 720, 5, 95, 847, 23, 8, 2, 2, 42, 1065, 2, 67, 12, 32, 11, 45, 4149, 5451, 786, 620, 58, 8, 66, 391, 5, 358, 12, 92, 535, 175, 2, 1589, 8, 30, 404, 151, 13, 384, 4, 116, 7, 4, 2, 1295, 999, 166, 2, 2, 168, 40, 6, 1300, 7, 4638, 1882, 813, 114, 757, 203, 306, 4330, 5, 49, 7, 4, 985, 844, 168, 1967, 21, 12, 9, 131, 35, 4233, 737, 20, 10, 10, 4, 91, 906, 388, 11, 4, 22, 26, 4, 2, 23, 4, 2, 648, 1454, 125, 4, 1693, 4, 7358, 467, 4, 2, 33, 4, 130, 7, 4, 2, 4, 452, 2412, 41, 351, 506, 4, 896, 2, 23, 4, 2, 3183, 5, 4, 3082, 4683, 56, 8, 2, 17, 1037, 6834, 4741, 18, 257, 162, 2162, 7, 523, 15, 168, 725, 12, 1065, 2, 266, 1239, 280, 174]),\n",
       "       list([1, 86, 13, 215, 5087, 15, 6, 3138, 2470, 9, 61, 514, 274, 38, 7, 265, 13, 28, 49, 7492, 429, 101, 589, 33, 9875, 12, 18, 6, 792, 22, 42, 699, 20, 21, 17, 13, 1695, 8, 106, 14, 22, 13, 16, 53, 74, 1688, 8, 202, 12, 4, 4275, 7, 4, 824, 4, 204, 310, 39, 4, 402, 3469, 151, 324, 33, 5838, 2, 1809, 121, 4, 2, 2133, 7085, 396, 5, 151, 12, 2674, 17, 2737, 17, 12, 100, 8, 4, 274, 3674, 101, 147, 1137, 7, 547, 5, 1196, 8, 1839, 4, 3320, 7, 4, 105, 4, 204, 468, 8, 331, 140, 143, 4, 7094, 886, 4, 5776, 44, 4, 20, 25, 1974, 15, 12, 16, 177, 669, 19, 701, 156, 1346, 4, 204, 47, 35, 2342, 235, 8, 12, 5, 12, 1116, 996, 10, 10, 14, 162, 310, 151, 13, 80, 2107, 15, 12, 2346, 4, 168, 7, 4, 810, 128, 74, 4, 204, 186, 8, 28, 1376, 4, 274, 46, 32, 295, 139, 26, 2, 105, 2, 121, 36, 92, 4881, 105, 1075, 15, 71, 24, 11, 4, 274, 5, 57, 589, 16, 93, 8, 9555, 83, 4, 2750, 4544, 15, 97, 4, 274, 38, 1444, 5, 4, 2, 3074, 7, 32, 4, 2840, 9, 24, 1899, 17, 4, 5723, 220, 1375, 109, 12, 9, 11, 4, 274, 14, 9, 35, 2, 2, 23, 4, 173, 7, 4, 22, 1188, 89, 100, 36, 2, 4, 217, 7, 4, 2840, 138, 16, 12, 24, 1725, 1241, 138, 4, 351, 8415, 2, 454, 5, 51, 11, 4834, 403, 16, 56, 19, 2, 1191, 14, 22, 9, 8, 30, 4570, 1244, 6, 3138, 2470, 144, 24, 30, 6, 878, 274, 8, 7919, 18, 4, 868, 42, 268, 308, 2, 1040, 12, 11, 6, 950, 478, 6191, 405, 4, 22, 1188, 144, 28, 8709, 4, 65, 17, 12, 16, 460, 398, 97, 1443, 252, 2, 133, 5, 50, 252, 193, 49, 3419, 905, 7826, 252, 21, 2330, 31, 7, 4, 2, 7, 298, 4714, 11, 4, 1773, 51, 71, 36, 536, 11, 68, 4306, 7, 4, 65, 347, 36, 605, 101, 4053, 7, 836, 42, 453, 4, 226, 20, 734, 1035, 5, 996, 3605, 10, 10, 48, 25, 26, 6, 312, 396, 42, 1170, 1475, 4943, 8, 332, 14, 274, 5, 25, 26, 536, 7, 2, 5, 43, 149, 4, 20, 92, 60, 104, 44, 12, 14, 22, 80, 30, 7, 57, 339, 8, 25, 10, 10, 2940, 75, 3433, 28, 8, 858, 60, 1207, 159, 6, 310, 7, 14, 65, 266, 8, 4, 268, 15, 371, 127, 12, 1351]),\n",
       "       list([1, 146, 2606, 8, 135, 146, 6, 1475, 33, 2, 121, 531, 7, 4, 22, 71, 324, 6318, 13, 2537, 3717, 2370, 121, 13, 562, 6, 22, 707, 869, 4, 172, 265, 17, 1486, 1475, 1259, 10, 10, 198, 121, 13, 2051, 44, 298, 20, 263, 2489, 579, 178, 44, 12, 3633, 159, 94, 766, 8, 30, 252, 13, 16, 3704, 21, 18, 49, 282, 13, 276, 125, 319, 12, 18, 450, 1928, 12, 7768, 224, 184, 73, 48, 12, 16, 131, 395, 33, 222, 11, 2, 10, 10, 54, 13, 417, 188, 187, 8, 319, 12, 13, 197, 12, 16, 35, 441, 664, 45, 24, 6, 991, 12, 271, 23, 6, 227, 99, 196, 21, 13, 169, 2, 1797, 5, 6758, 3373, 13, 440, 14, 22, 2, 4, 2, 7, 1963, 5, 128, 183, 90, 279, 27, 2, 2, 80, 2, 90, 8, 3200, 37, 694, 10, 10, 675, 46, 7, 10, 10, 2, 5651, 626, 34, 2, 1268, 2239]),\n",
       "       list([1, 2544, 10, 10, 1251, 8598, 342, 1745, 300, 2, 300, 746, 241, 2, 300, 2122, 2, 10, 10, 481, 2718, 2, 3536, 10, 10, 5439, 6, 780, 707, 2343, 3876, 2, 7989, 6, 2556, 2043, 5, 312, 926, 121, 29, 2271, 2494, 3080, 44, 4, 2, 200, 1026, 5, 338, 10, 10, 2, 792, 34, 167, 2, 2356, 1881, 61, 113, 129, 2157, 35, 2, 7, 4, 1751, 2, 2, 17, 110, 143, 4, 523, 7, 6, 364, 851, 625, 182, 650, 9, 5844, 34, 27, 2474, 2923, 4, 3023, 4132, 472, 2, 881, 560, 55, 117, 75, 161, 460, 124, 44, 4, 2, 7, 4, 2, 1026, 5, 4, 1321, 9, 64, 3355, 2, 34, 649, 19, 6, 2252, 21, 532, 6608, 851, 430, 826, 2, 3184, 37, 505, 46, 8, 30, 57, 329, 2, 74, 4, 55, 84, 29, 4846, 8, 2, 82, 1184, 4399, 1605, 17, 35, 3599, 2, 37, 2251, 780, 707, 84, 26, 2942, 8, 30, 1239, 988, 2, 17, 4, 328, 7949, 7, 6, 3092, 223, 5532, 2, 2, 4215, 275, 18, 539, 5, 2, 8628, 11, 6, 3475, 9081, 2055, 7871, 41, 8255, 33, 32, 5, 2, 209, 6, 459, 11, 4, 182, 10, 10, 472, 76, 7, 4, 598, 1488, 9, 2, 34, 2, 2, 23, 772, 6, 2, 962, 289, 3138, 300, 2, 300, 1218, 26, 2, 746, 4, 241, 2, 300, 2122, 257, 31, 3760, 6, 275, 7172, 7, 2267, 139, 63, 2, 4, 1459, 5, 2, 797, 39, 687, 23, 268, 6, 196, 1149, 22, 99, 965, 18, 1876, 1271, 5, 2, 469, 34, 6, 1360, 1773, 63, 996, 8, 2, 4, 65, 33, 508, 6, 686, 1459, 310, 9, 82, 1439, 5309, 2, 33, 300, 7304, 300, 19, 4, 23, 268, 425, 2544, 1838, 26, 40, 3085])],\n",
       "      dtype=object)"
      ]
     },
     "execution_count": 142,
     "metadata": {
      "tags": []
     },
     "output_type": "execute_result"
    }
   ],
   "source": [
    "X_test[0:5]"
   ]
  },
  {
   "cell_type": "code",
   "execution_count": null,
   "metadata": {
    "colab": {
     "base_uri": "https://localhost:8080/"
    },
    "id": "3EMNz77Rmbbs",
    "outputId": "bda5db16-26fc-4db9-ee18-263161ac092e"
   },
   "outputs": [
    {
     "data": {
      "text/plain": [
       "array([0, 1, 0, 1, 0])"
      ]
     },
     "execution_count": 143,
     "metadata": {
      "tags": []
     },
     "output_type": "execute_result"
    }
   ],
   "source": [
    "y_test[0:5]"
   ]
  },
  {
   "cell_type": "code",
   "execution_count": null,
   "metadata": {
    "colab": {
     "base_uri": "https://localhost:8080/"
    },
    "id": "FjWl5GUsmdYo",
    "outputId": "b46fed9a-8e61-42e6-e2e5-c0defcebea39"
   },
   "outputs": [
    {
     "data": {
      "text/plain": [
       "9999"
      ]
     },
     "execution_count": 144,
     "metadata": {
      "tags": []
     },
     "output_type": "execute_result"
    }
   ],
   "source": [
    "max(max(i) for i in X_train)"
   ]
  },
  {
   "cell_type": "code",
   "execution_count": null,
   "metadata": {
    "id": "GZq9_rhRquV1"
   },
   "outputs": [],
   "source": [
    "# Get Word index from the dataset to decode the integers back to words\n",
    "word_index = imdb.get_word_index()"
   ]
  },
  {
   "cell_type": "code",
   "execution_count": null,
   "metadata": {
    "id": "lUvF0H9vz0g3"
   },
   "outputs": [],
   "source": [
    "# Convert the dictionary from word->index to index->word for decoding\n",
    "index_to_word = dict([(value, key) for (key, value) in word_index.items()])"
   ]
  },
  {
   "cell_type": "code",
   "execution_count": null,
   "metadata": {
    "colab": {
     "base_uri": "https://localhost:8080/"
    },
    "id": "IWdfeCKO0mam",
    "outputId": "95cd56dd-037d-4eae-d62f-ac7f77df2d1d"
   },
   "outputs": [
    {
     "name": "stdout",
     "output_type": "stream",
     "text": [
      "the\n",
      "of\n",
      "with\n",
      "after\n",
      "behavior\n",
      "1987\n",
      "approved\n"
     ]
    }
   ],
   "source": [
    "# Let's decode few samples using various indices\n",
    "print(index_to_word.get(1))\n",
    "print(index_to_word.get(4))\n",
    "print(index_to_word.get(16))\n",
    "print(index_to_word.get(100))\n",
    "print(index_to_word.get(2000))\n",
    "print(index_to_word.get(5000))\n",
    "print(index_to_word.get(10000))\n",
    "# The indices in ascending order indicate the words from most frequently used words to least frequent words"
   ]
  },
  {
   "cell_type": "code",
   "execution_count": null,
   "metadata": {
    "id": "TR_d9ee81ae6"
   },
   "outputs": [],
   "source": [
    "# Let's now decode a specific review\n",
    "def decode_review(X, y):\n",
    "  decoded_review = ' '.join([index_to_word.get(i-3, '?') for i in X])\n",
    "  if (y == 0):\n",
    "    print('This is a negative review \\n')\n",
    "  else:\n",
    "    print('This is a positive review \\n')\n",
    "  return (decoded_review)"
   ]
  },
  {
   "cell_type": "code",
   "execution_count": null,
   "metadata": {
    "colab": {
     "base_uri": "https://localhost:8080/",
     "height": 154
    },
    "id": "n3UesGo72lBi",
    "outputId": "80ace78c-884b-4ae7-9a31-e48acd93ef0a"
   },
   "outputs": [
    {
     "name": "stdout",
     "output_type": "stream",
     "text": [
      "This is a negative review \n",
      "\n"
     ]
    },
    {
     "data": {
      "application/vnd.google.colaboratory.intrinsic+json": {
       "type": "string"
      },
      "text/plain": [
       "\"? there is an excellent reason edison went straight to video it would have landed in theaters with a ? ? the movie lasted entirely too long and was ? boring just a notch above ? thanks to freeman and spacey who obviously had a spare two weeks before their next films the bad guys are as laughable and action as near non existent as justin ? acting i hate to knock the guy but the sooner he realizes that pop is his ? the better br br the movie isn't all bad just mostly i like the fact that ll cool j was given what appears to be a shot at being leading man he deserves it and unlike his fellow musician and co star he can act kevin spacey is almost always enjoyable as well you can see him ? several times as he ? the scenery and freeman has the ability to elevate this flick to three stars out of ten he's not that good br br when all is said and done the ultimate error with this movie is that it is a mundane and tiresome piece of pseudo action ? that fails to keep anyone awake it also fails to make anyone give a good crap about any of the characters all in all ? just plain boring that being said rent this when you are suffering from insomnia\""
      ]
     },
     "execution_count": 149,
     "metadata": {
      "tags": []
     },
     "output_type": "execute_result"
    }
   ],
   "source": [
    "# Check review type\n",
    "k = 5\n",
    "decoded_imdb_review = decode_review(X_train[k], y_train[k])\n",
    "decoded_imdb_review"
   ]
  },
  {
   "cell_type": "markdown",
   "metadata": {
    "id": "NX5w7qEC5dDw"
   },
   "source": [
    "### 2. Perform relevant sequence adding on the data\n"
   ]
  },
  {
   "cell_type": "code",
   "execution_count": null,
   "metadata": {
    "id": "9O3_tFKP3TCT"
   },
   "outputs": [],
   "source": [
    "# Sequence and padding the Training data\n",
    "from tensorflow.keras.preprocessing import sequence\n",
    "review_length = 20\n",
    "X_train = sequence.pad_sequences(X_train, maxlen=review_length)"
   ]
  },
  {
   "cell_type": "code",
   "execution_count": null,
   "metadata": {
    "id": "JHh1kDPU5i9E"
   },
   "outputs": [],
   "source": [
    "# Similarly pad the test data\n",
    "X_test = sequence.pad_sequences(X_test, maxlen=review_length)"
   ]
  },
  {
   "cell_type": "code",
   "execution_count": null,
   "metadata": {
    "id": "Xe-M0uiJ9hlm"
   },
   "outputs": [],
   "source": []
  },
  {
   "cell_type": "markdown",
   "metadata": {
    "id": "mpb0gbJk9h5x"
   },
   "source": [
    "### 3. Perform following data analysis:\n",
    " - Print shape of features and labels\n",
    " - Print value of any one feature and it's label"
   ]
  },
  {
   "cell_type": "code",
   "execution_count": null,
   "metadata": {
    "colab": {
     "base_uri": "https://localhost:8080/"
    },
    "id": "s7aWANvb6ZUv",
    "outputId": "ccd4e0b7-a5d9-4677-ec4e-c001e461a9c0"
   },
   "outputs": [
    {
     "name": "stdout",
     "output_type": "stream",
     "text": [
      "(25000, 20) (25000,) (25000, 20) (25000,)\n"
     ]
    }
   ],
   "source": [
    "print(X_train.shape, y_train.shape, X_test.shape, y_test.shape)"
   ]
  },
  {
   "cell_type": "code",
   "execution_count": null,
   "metadata": {
    "colab": {
     "base_uri": "https://localhost:8080/"
    },
    "id": "W7UPh2TU6cVr",
    "outputId": "e7e435b0-7d61-4d74-a5a8-b544ec7a549e"
   },
   "outputs": [
    {
     "data": {
      "text/plain": [
       "array([3788,    5, 6048,   21,   13,   80,   30,   15, 3759,   45,  131,\n",
       "         24,  290,    4,   58,   38,  128,    8,  798,   14], dtype=int32)"
      ]
     },
     "execution_count": 153,
     "metadata": {
      "tags": []
     },
     "output_type": "execute_result"
    }
   ],
   "source": [
    "X_train[0]"
   ]
  },
  {
   "cell_type": "code",
   "execution_count": null,
   "metadata": {
    "colab": {
     "base_uri": "https://localhost:8080/"
    },
    "id": "vmv0B1E29p57",
    "outputId": "786bb2f5-1b3e-4e1e-99be-c3dda52b95e1"
   },
   "outputs": [
    {
     "data": {
      "text/plain": [
       "0"
      ]
     },
     "execution_count": 155,
     "metadata": {
      "tags": []
     },
     "output_type": "execute_result"
    }
   ],
   "source": [
    "y_train[0]"
   ]
  },
  {
   "cell_type": "code",
   "execution_count": null,
   "metadata": {
    "id": "SlORahYu9wAZ"
   },
   "outputs": [],
   "source": []
  },
  {
   "cell_type": "markdown",
   "metadata": {
    "id": "7B7_a_hF9wjE"
   },
   "source": [
    "### 4. Decode the feature value to get original sentence\n"
   ]
  },
  {
   "cell_type": "code",
   "execution_count": null,
   "metadata": {
    "colab": {
     "base_uri": "https://localhost:8080/",
     "height": 69
    },
    "id": "QKwysEXN6fvb",
    "outputId": "15f3abbc-d508-4e59-c625-29fe1bdc71e4"
   },
   "outputs": [
    {
     "name": "stdout",
     "output_type": "stream",
     "text": [
      "This is a negative review \n",
      "\n"
     ]
    },
    {
     "data": {
      "application/vnd.google.colaboratory.intrinsic+json": {
       "type": "string"
      },
      "text/plain": [
       "'the characters all in all ? just plain boring that being said rent this when you are suffering from insomnia'"
      ]
     },
     "execution_count": 154,
     "metadata": {
      "tags": []
     },
     "output_type": "execute_result"
    }
   ],
   "source": [
    "# Check review type with reduced review size\n",
    "k = 5\n",
    "decoded_imdb_review = decode_review(X_train[k], y_train[k])\n",
    "decoded_imdb_review"
   ]
  },
  {
   "cell_type": "markdown",
   "metadata": {
    "id": "qtwllhh99491"
   },
   "source": [
    "### 5. Design, train, tune and test a sequential model. \n",
    "Hint: The aim here Is to import the text, process it such a way that it can be taken as an inout to the ML/NN classifiers. Be analytical and experimental here in trying new approaches to design the best model."
   ]
  },
  {
   "cell_type": "code",
   "execution_count": null,
   "metadata": {
    "id": "b_Fm9tMw8Tp5"
   },
   "outputs": [],
   "source": [
    "from tensorflow.keras.models import Sequential\n",
    "from tensorflow.keras.layers import LSTM, Dropout, Activation, Dense\n",
    "from tensorflow.keras.layers import Embedding"
   ]
  },
  {
   "cell_type": "code",
   "execution_count": null,
   "metadata": {
    "id": "f7yNA51w-EYo"
   },
   "outputs": [],
   "source": [
    "model = Sequential()"
   ]
  },
  {
   "cell_type": "code",
   "execution_count": null,
   "metadata": {
    "id": "BmBH65s0-JGW"
   },
   "outputs": [],
   "source": [
    "model.add(Embedding(10000, 64, input_length=20))\n",
    "model.add(LSTM(20))\n",
    "model.add(Dense(1, activation='sigmoid'))"
   ]
  },
  {
   "cell_type": "code",
   "execution_count": null,
   "metadata": {
    "id": "nCfhFNmu-wfT"
   },
   "outputs": [],
   "source": [
    "model.compile(optimizer='adam', loss='binary_crossentropy', metrics=['accuracy'])"
   ]
  },
  {
   "cell_type": "code",
   "execution_count": null,
   "metadata": {
    "colab": {
     "base_uri": "https://localhost:8080/"
    },
    "id": "gKfhz7id_xKG",
    "outputId": "53b5111f-cdc9-45c4-fca3-17bcf8c6dc37"
   },
   "outputs": [
    {
     "name": "stdout",
     "output_type": "stream",
     "text": [
      "Epoch 1/5\n",
      "782/782 [==============================] - 17s 20ms/step - loss: 0.5775 - accuracy: 0.6819 - val_loss: 0.4720 - val_accuracy: 0.7688\n",
      "Epoch 2/5\n",
      "782/782 [==============================] - 15s 19ms/step - loss: 0.3884 - accuracy: 0.8214 - val_loss: 0.4764 - val_accuracy: 0.7681\n",
      "Epoch 3/5\n",
      "782/782 [==============================] - 15s 19ms/step - loss: 0.3077 - accuracy: 0.8668 - val_loss: 0.5438 - val_accuracy: 0.7601\n",
      "Epoch 4/5\n",
      "782/782 [==============================] - 15s 19ms/step - loss: 0.2392 - accuracy: 0.8966 - val_loss: 0.6132 - val_accuracy: 0.7527\n",
      "Epoch 5/5\n",
      "782/782 [==============================] - 15s 19ms/step - loss: 0.1804 - accuracy: 0.9239 - val_loss: 0.6995 - val_accuracy: 0.7450\n"
     ]
    },
    {
     "data": {
      "text/plain": [
       "<tensorflow.python.keras.callbacks.History at 0x7f13a89be910>"
      ]
     },
     "execution_count": 273,
     "metadata": {
      "tags": []
     },
     "output_type": "execute_result"
    }
   ],
   "source": [
    "model.fit(X_train, y_train, batch_size=32, epochs=5, validation_data=(X_test, y_test))"
   ]
  },
  {
   "cell_type": "code",
   "execution_count": null,
   "metadata": {
    "colab": {
     "base_uri": "https://localhost:8080/"
    },
    "id": "Hn795f4N_87C",
    "outputId": "ca9f5cd4-5720-4e0e-8521-4824bdc8df8a"
   },
   "outputs": [
    {
     "name": "stdout",
     "output_type": "stream",
     "text": [
      "Model: \"sequential_14\"\n",
      "_________________________________________________________________\n",
      "Layer (type)                 Output Shape              Param #   \n",
      "=================================================================\n",
      "embedding_12 (Embedding)     (None, 20, 64)            640000    \n",
      "_________________________________________________________________\n",
      "lstm_11 (LSTM)               (None, 20)                6800      \n",
      "_________________________________________________________________\n",
      "dense_10 (Dense)             (None, 1)                 21        \n",
      "=================================================================\n",
      "Total params: 646,821\n",
      "Trainable params: 646,821\n",
      "Non-trainable params: 0\n",
      "_________________________________________________________________\n"
     ]
    }
   ],
   "source": [
    "model.summary()"
   ]
  },
  {
   "cell_type": "code",
   "execution_count": null,
   "metadata": {
    "colab": {
     "base_uri": "https://localhost:8080/"
    },
    "id": "ZDAig6WTGD_J",
    "outputId": "ef234e12-bd83-48e2-babe-9eeb4e4652df"
   },
   "outputs": [
    {
     "name": "stdout",
     "output_type": "stream",
     "text": [
      "782/782 [==============================] - 2s 3ms/step - loss: 0.6995 - accuracy: 0.7450\n",
      "Test Accuracy: 74.50%\n"
     ]
    }
   ],
   "source": [
    "score = model.evaluate(X_test, y_test)\n",
    "print(\"Test Accuracy: %.2f%%\" %(score[1]*100))"
   ]
  },
  {
   "cell_type": "markdown",
   "metadata": {
    "id": "-Ohax5s5A_jt"
   },
   "source": [
    "### 6. Use the designed model to print the prediction on any one sample."
   ]
  },
  {
   "cell_type": "code",
   "execution_count": null,
   "metadata": {
    "id": "mRlSU8G-BkUp"
   },
   "outputs": [],
   "source": [
    "y_pred = model.predict(X_test, batch_size=32)"
   ]
  },
  {
   "cell_type": "code",
   "execution_count": null,
   "metadata": {
    "colab": {
     "base_uri": "https://localhost:8080/",
     "height": 69
    },
    "id": "BwMAO-LEByPZ",
    "outputId": "e91d7c7a-b3b6-48f1-8e62-73bc5743d432"
   },
   "outputs": [
    {
     "name": "stdout",
     "output_type": "stream",
     "text": [
      "This is a negative review \n",
      "\n"
     ]
    },
    {
     "data": {
      "application/vnd.google.colaboratory.intrinsic+json": {
       "type": "string"
      },
      "text/plain": [
       "'have to wait even longer before a version of this story comes to the screen that truly does it justice'"
      ]
     },
     "execution_count": 277,
     "metadata": {
      "tags": []
     },
     "output_type": "execute_result"
    }
   ],
   "source": [
    "# Check review type\n",
    "k = 2\n",
    "decoded_imdb_review = decode_review(X_test[k], y_test[k])\n",
    "decoded_imdb_review"
   ]
  },
  {
   "cell_type": "code",
   "execution_count": null,
   "metadata": {
    "colab": {
     "base_uri": "https://localhost:8080/"
    },
    "id": "w0pwkKnFB8Lw",
    "outputId": "7ccfb959-cf3c-4f97-cc99-4c134d03584f"
   },
   "outputs": [
    {
     "data": {
      "text/plain": [
       "array([0.3342913], dtype=float32)"
      ]
     },
     "execution_count": 278,
     "metadata": {
      "tags": []
     },
     "output_type": "execute_result"
    }
   ],
   "source": [
    "# Predicted review type\n",
    "y_pred[k]"
   ]
  },
  {
   "cell_type": "code",
   "execution_count": null,
   "metadata": {
    "colab": {
     "base_uri": "https://localhost:8080/",
     "height": 86
    },
    "id": "Dvn54PyzCudC",
    "outputId": "e009c4bf-68b4-4364-9919-5670ec7934ab"
   },
   "outputs": [
    {
     "name": "stdout",
     "output_type": "stream",
     "text": [
      "This is a positive review \n",
      "\n",
      "[0.61986214]\n"
     ]
    },
    {
     "data": {
      "application/vnd.google.colaboratory.intrinsic+json": {
       "type": "string"
      },
      "text/plain": [
       "\"odd in this one just a taut thriller you'll want to know how this story ends once you start watching\""
      ]
     },
     "execution_count": 279,
     "metadata": {
      "tags": []
     },
     "output_type": "execute_result"
    }
   ],
   "source": [
    "# Check another review and prediction\n",
    "k = 100\n",
    "decoded_imdb_review = decode_review(X_test[k], y_test[k])\n",
    "print(y_pred[k])\n",
    "decoded_imdb_review"
   ]
  },
  {
   "cell_type": "markdown",
   "metadata": {
    "id": "7EiPk80LC3dI"
   },
   "source": [
    "# PART 2\n",
    "\n",
    "## DOMAIN: Social media analytics\n",
    "## CONTEXT: \n",
    "Past studies in Sarcasm Detection mostly make use of Twitter datasets collected using hashtag based supervision but such datasets are noisy in terms of labels and language. Furthermore, many tweets are replies to other tweets and detecting sarcasm in these requires the availability of contextual tweets.In this hands-on project, the goal is to build a model to detect whether a sentence is sarcastic or not, using Bidirectional LSTMs.\n",
    "### DATA DESCRIPTION:\n",
    "The dataset is collected from two news websites, theonion.com and huffingtonpost.com. This new dataset has the following advantages over the existing Twitter datasets:\n",
    "\n",
    "Since news headlines are written by professionals in a formal manner, there are no spelling mistakes and informal usage. This reduces the sparsity and also increases the chance of finding pre-trained embeddings.\n",
    "\n",
    "Furthermore, since the sole purpose of TheOnion is to publish sarcastic news, we get high-quality labels with much less noise as compared to Twitter datasets.\n",
    "Unlike tweets that reply to other tweets, the news headlines obtained are self-contained. This would help us in teasing apart the real sarcastic elements\n",
    "\n",
    "### Content: \n",
    "Each record consists of three attributes:\n",
    "\n",
    "* is_sarcastic: 1 if the record is sarcastic otherwise 0\n",
    "* headline: the headline of the news article\n",
    "* article_link: link to the original news article. Useful in collecting  supplementary data\n",
    "\n",
    "Reference: https://github.com/rishabhmisra/News-Headlines-Dataset-For-Sarcasm-Detection\n",
    "\n",
    "## PROJECT OBJECTIVE: \n",
    "Build a sequential NLP classifier which can use input text parameters to determine the customer sentiments.\n",
    "\n",
    "### Steps and tasks: [ Total Score: 30 points]\n",
    "1. Read and explore the data\n",
    "2. Retain relevant columns\n",
    "3. Get length of each sentence\n",
    "4. Define parameters\n",
    "5. Get indices for words\n",
    "6. Create features and labels\n",
    "7. Get vocabulary size\n",
    "8. Create a weight matrix using GloVe embeddings\n",
    "9. Define and compile a Bidirectional LSTM model.\n",
    "Hint: Be analytical and experimental here in trying new approaches to design the best model.\n",
    "10. Fit the model and check the validation accuracy"
   ]
  },
  {
   "cell_type": "code",
   "execution_count": null,
   "metadata": {
    "id": "TCxapDKCDfmP"
   },
   "outputs": [],
   "source": [
    "import pandas as pd\n",
    "import numpy as np\n",
    "import matplotlib.pyplot as plt\n",
    "%matplotlib inline"
   ]
  },
  {
   "cell_type": "markdown",
   "metadata": {
    "id": "yJNHMiQSHk7Q"
   },
   "source": [
    "### 1. Read and explore the data\n"
   ]
  },
  {
   "cell_type": "code",
   "execution_count": null,
   "metadata": {
    "colab": {
     "base_uri": "https://localhost:8080/",
     "height": 195
    },
    "id": "MwHTCJZjHmm1",
    "outputId": "dd1b6e54-0166-4f2d-98cd-1ad3434e75d6"
   },
   "outputs": [
    {
     "data": {
      "text/html": [
       "<div>\n",
       "<style scoped>\n",
       "    .dataframe tbody tr th:only-of-type {\n",
       "        vertical-align: middle;\n",
       "    }\n",
       "\n",
       "    .dataframe tbody tr th {\n",
       "        vertical-align: top;\n",
       "    }\n",
       "\n",
       "    .dataframe thead th {\n",
       "        text-align: right;\n",
       "    }\n",
       "</style>\n",
       "<table border=\"1\" class=\"dataframe\">\n",
       "  <thead>\n",
       "    <tr style=\"text-align: right;\">\n",
       "      <th></th>\n",
       "      <th>article_link</th>\n",
       "      <th>headline</th>\n",
       "      <th>is_sarcastic</th>\n",
       "    </tr>\n",
       "  </thead>\n",
       "  <tbody>\n",
       "    <tr>\n",
       "      <th>0</th>\n",
       "      <td>https://www.huffingtonpost.com/entry/versace-b...</td>\n",
       "      <td>former versace store clerk sues over secret 'b...</td>\n",
       "      <td>0</td>\n",
       "    </tr>\n",
       "    <tr>\n",
       "      <th>1</th>\n",
       "      <td>https://www.huffingtonpost.com/entry/roseanne-...</td>\n",
       "      <td>the 'roseanne' revival catches up to our thorn...</td>\n",
       "      <td>0</td>\n",
       "    </tr>\n",
       "    <tr>\n",
       "      <th>2</th>\n",
       "      <td>https://local.theonion.com/mom-starting-to-fea...</td>\n",
       "      <td>mom starting to fear son's web series closest ...</td>\n",
       "      <td>1</td>\n",
       "    </tr>\n",
       "    <tr>\n",
       "      <th>3</th>\n",
       "      <td>https://politics.theonion.com/boehner-just-wan...</td>\n",
       "      <td>boehner just wants wife to listen, not come up...</td>\n",
       "      <td>1</td>\n",
       "    </tr>\n",
       "    <tr>\n",
       "      <th>4</th>\n",
       "      <td>https://www.huffingtonpost.com/entry/jk-rowlin...</td>\n",
       "      <td>j.k. rowling wishes snape happy birthday in th...</td>\n",
       "      <td>0</td>\n",
       "    </tr>\n",
       "  </tbody>\n",
       "</table>\n",
       "</div>"
      ],
      "text/plain": [
       "                                        article_link  ... is_sarcastic\n",
       "0  https://www.huffingtonpost.com/entry/versace-b...  ...            0\n",
       "1  https://www.huffingtonpost.com/entry/roseanne-...  ...            0\n",
       "2  https://local.theonion.com/mom-starting-to-fea...  ...            1\n",
       "3  https://politics.theonion.com/boehner-just-wan...  ...            1\n",
       "4  https://www.huffingtonpost.com/entry/jk-rowlin...  ...            0\n",
       "\n",
       "[5 rows x 3 columns]"
      ]
     },
     "execution_count": 286,
     "metadata": {
      "tags": []
     },
     "output_type": "execute_result"
    }
   ],
   "source": [
    "data_path = '/content/drive/MyDrive/Colab/NLP/Project2/Data - Sarcasm Detection./'\n",
    "data = pd.read_json(data_path+'Sarcasm_Headlines_Dataset.json', orient='records', lines=True)\n",
    "data.head()"
   ]
  },
  {
   "cell_type": "code",
   "execution_count": null,
   "metadata": {
    "colab": {
     "base_uri": "https://localhost:8080/",
     "height": 284
    },
    "id": "HZ1C7Mj8KNM2",
    "outputId": "6b79d15d-253d-4803-8d29-d8e72e82be9c"
   },
   "outputs": [
    {
     "data": {
      "text/html": [
       "<div>\n",
       "<style scoped>\n",
       "    .dataframe tbody tr th:only-of-type {\n",
       "        vertical-align: middle;\n",
       "    }\n",
       "\n",
       "    .dataframe tbody tr th {\n",
       "        vertical-align: top;\n",
       "    }\n",
       "\n",
       "    .dataframe thead th {\n",
       "        text-align: right;\n",
       "    }\n",
       "</style>\n",
       "<table border=\"1\" class=\"dataframe\">\n",
       "  <thead>\n",
       "    <tr style=\"text-align: right;\">\n",
       "      <th></th>\n",
       "      <th>is_sarcastic</th>\n",
       "    </tr>\n",
       "  </thead>\n",
       "  <tbody>\n",
       "    <tr>\n",
       "      <th>count</th>\n",
       "      <td>26709.000000</td>\n",
       "    </tr>\n",
       "    <tr>\n",
       "      <th>mean</th>\n",
       "      <td>0.438953</td>\n",
       "    </tr>\n",
       "    <tr>\n",
       "      <th>std</th>\n",
       "      <td>0.496269</td>\n",
       "    </tr>\n",
       "    <tr>\n",
       "      <th>min</th>\n",
       "      <td>0.000000</td>\n",
       "    </tr>\n",
       "    <tr>\n",
       "      <th>25%</th>\n",
       "      <td>0.000000</td>\n",
       "    </tr>\n",
       "    <tr>\n",
       "      <th>50%</th>\n",
       "      <td>0.000000</td>\n",
       "    </tr>\n",
       "    <tr>\n",
       "      <th>75%</th>\n",
       "      <td>1.000000</td>\n",
       "    </tr>\n",
       "    <tr>\n",
       "      <th>max</th>\n",
       "      <td>1.000000</td>\n",
       "    </tr>\n",
       "  </tbody>\n",
       "</table>\n",
       "</div>"
      ],
      "text/plain": [
       "       is_sarcastic\n",
       "count  26709.000000\n",
       "mean       0.438953\n",
       "std        0.496269\n",
       "min        0.000000\n",
       "25%        0.000000\n",
       "50%        0.000000\n",
       "75%        1.000000\n",
       "max        1.000000"
      ]
     },
     "execution_count": 287,
     "metadata": {
      "tags": []
     },
     "output_type": "execute_result"
    }
   ],
   "source": [
    "data.describe()"
   ]
  },
  {
   "cell_type": "code",
   "execution_count": null,
   "metadata": {
    "colab": {
     "base_uri": "https://localhost:8080/"
    },
    "id": "nkHICYPQLj8_",
    "outputId": "a8a09fc5-ff85-4df0-895c-072c262f3992"
   },
   "outputs": [
    {
     "name": "stdout",
     "output_type": "stream",
     "text": [
      "<class 'pandas.core.frame.DataFrame'>\n",
      "RangeIndex: 26709 entries, 0 to 26708\n",
      "Data columns (total 3 columns):\n",
      " #   Column        Non-Null Count  Dtype \n",
      "---  ------        --------------  ----- \n",
      " 0   article_link  26709 non-null  object\n",
      " 1   headline      26709 non-null  object\n",
      " 2   is_sarcastic  26709 non-null  int64 \n",
      "dtypes: int64(1), object(2)\n",
      "memory usage: 626.1+ KB\n"
     ]
    }
   ],
   "source": [
    "data.info()"
   ]
  },
  {
   "cell_type": "code",
   "execution_count": null,
   "metadata": {
    "colab": {
     "base_uri": "https://localhost:8080/"
    },
    "id": "mhWkVHmqLmoI",
    "outputId": "5f8b5f30-1fe0-45df-9b42-3660e7fc2a75"
   },
   "outputs": [
    {
     "data": {
      "text/plain": [
       "(26709, 3)"
      ]
     },
     "execution_count": 289,
     "metadata": {
      "tags": []
     },
     "output_type": "execute_result"
    }
   ],
   "source": [
    "data.shape"
   ]
  },
  {
   "cell_type": "markdown",
   "metadata": {
    "id": "hgbBZy8ILxua"
   },
   "source": [
    "### 2. Retain relevant columns\n"
   ]
  },
  {
   "cell_type": "code",
   "execution_count": null,
   "metadata": {
    "colab": {
     "base_uri": "https://localhost:8080/",
     "height": 195
    },
    "id": "gxy_49BYLoFd",
    "outputId": "16b151ce-26af-40ee-b6b4-24b36f1445f3"
   },
   "outputs": [
    {
     "data": {
      "text/html": [
       "<div>\n",
       "<style scoped>\n",
       "    .dataframe tbody tr th:only-of-type {\n",
       "        vertical-align: middle;\n",
       "    }\n",
       "\n",
       "    .dataframe tbody tr th {\n",
       "        vertical-align: top;\n",
       "    }\n",
       "\n",
       "    .dataframe thead th {\n",
       "        text-align: right;\n",
       "    }\n",
       "</style>\n",
       "<table border=\"1\" class=\"dataframe\">\n",
       "  <thead>\n",
       "    <tr style=\"text-align: right;\">\n",
       "      <th></th>\n",
       "      <th>headline</th>\n",
       "      <th>is_sarcastic</th>\n",
       "    </tr>\n",
       "  </thead>\n",
       "  <tbody>\n",
       "    <tr>\n",
       "      <th>0</th>\n",
       "      <td>former versace store clerk sues over secret 'b...</td>\n",
       "      <td>0</td>\n",
       "    </tr>\n",
       "    <tr>\n",
       "      <th>1</th>\n",
       "      <td>the 'roseanne' revival catches up to our thorn...</td>\n",
       "      <td>0</td>\n",
       "    </tr>\n",
       "    <tr>\n",
       "      <th>2</th>\n",
       "      <td>mom starting to fear son's web series closest ...</td>\n",
       "      <td>1</td>\n",
       "    </tr>\n",
       "    <tr>\n",
       "      <th>3</th>\n",
       "      <td>boehner just wants wife to listen, not come up...</td>\n",
       "      <td>1</td>\n",
       "    </tr>\n",
       "    <tr>\n",
       "      <th>4</th>\n",
       "      <td>j.k. rowling wishes snape happy birthday in th...</td>\n",
       "      <td>0</td>\n",
       "    </tr>\n",
       "  </tbody>\n",
       "</table>\n",
       "</div>"
      ],
      "text/plain": [
       "                                            headline  is_sarcastic\n",
       "0  former versace store clerk sues over secret 'b...             0\n",
       "1  the 'roseanne' revival catches up to our thorn...             0\n",
       "2  mom starting to fear son's web series closest ...             1\n",
       "3  boehner just wants wife to listen, not come up...             1\n",
       "4  j.k. rowling wishes snape happy birthday in th...             0"
      ]
     },
     "execution_count": 292,
     "metadata": {
      "tags": []
     },
     "output_type": "execute_result"
    }
   ],
   "source": [
    "# Drop article link\n",
    "data.drop(['article_link'], axis=1, inplace=True)\n",
    "data.head()"
   ]
  },
  {
   "cell_type": "markdown",
   "metadata": {
    "id": "NwjZvZdQMJu_"
   },
   "source": [
    "### 3. Get length of each sentence\n"
   ]
  },
  {
   "cell_type": "code",
   "execution_count": null,
   "metadata": {
    "colab": {
     "base_uri": "https://localhost:8080/"
    },
    "id": "_5Rw2yQtL-rJ",
    "outputId": "4bda8c25-c937-4cfd-d810-469a7b057f5d"
   },
   "outputs": [
    {
     "data": {
      "text/plain": [
       "10"
      ]
     },
     "execution_count": 296,
     "metadata": {
      "tags": []
     },
     "output_type": "execute_result"
    }
   ],
   "source": [
    "j = 10\n",
    "len(data.headline[j].split())"
   ]
  },
  {
   "cell_type": "code",
   "execution_count": null,
   "metadata": {
    "colab": {
     "base_uri": "https://localhost:8080/",
     "height": 195
    },
    "id": "-T9aFhFFOmb5",
    "outputId": "a222aa4b-fb54-49a7-9a25-af074a047dbc"
   },
   "outputs": [
    {
     "data": {
      "text/html": [
       "<div>\n",
       "<style scoped>\n",
       "    .dataframe tbody tr th:only-of-type {\n",
       "        vertical-align: middle;\n",
       "    }\n",
       "\n",
       "    .dataframe tbody tr th {\n",
       "        vertical-align: top;\n",
       "    }\n",
       "\n",
       "    .dataframe thead th {\n",
       "        text-align: right;\n",
       "    }\n",
       "</style>\n",
       "<table border=\"1\" class=\"dataframe\">\n",
       "  <thead>\n",
       "    <tr style=\"text-align: right;\">\n",
       "      <th></th>\n",
       "      <th>headline</th>\n",
       "      <th>is_sarcastic</th>\n",
       "      <th>length</th>\n",
       "    </tr>\n",
       "  </thead>\n",
       "  <tbody>\n",
       "    <tr>\n",
       "      <th>0</th>\n",
       "      <td>former versace store clerk sues over secret 'b...</td>\n",
       "      <td>0</td>\n",
       "      <td>12</td>\n",
       "    </tr>\n",
       "    <tr>\n",
       "      <th>1</th>\n",
       "      <td>the 'roseanne' revival catches up to our thorn...</td>\n",
       "      <td>0</td>\n",
       "      <td>14</td>\n",
       "    </tr>\n",
       "    <tr>\n",
       "      <th>2</th>\n",
       "      <td>mom starting to fear son's web series closest ...</td>\n",
       "      <td>1</td>\n",
       "      <td>14</td>\n",
       "    </tr>\n",
       "    <tr>\n",
       "      <th>3</th>\n",
       "      <td>boehner just wants wife to listen, not come up...</td>\n",
       "      <td>1</td>\n",
       "      <td>13</td>\n",
       "    </tr>\n",
       "    <tr>\n",
       "      <th>4</th>\n",
       "      <td>j.k. rowling wishes snape happy birthday in th...</td>\n",
       "      <td>0</td>\n",
       "      <td>11</td>\n",
       "    </tr>\n",
       "  </tbody>\n",
       "</table>\n",
       "</div>"
      ],
      "text/plain": [
       "                                            headline  is_sarcastic  length\n",
       "0  former versace store clerk sues over secret 'b...             0      12\n",
       "1  the 'roseanne' revival catches up to our thorn...             0      14\n",
       "2  mom starting to fear son's web series closest ...             1      14\n",
       "3  boehner just wants wife to listen, not come up...             1      13\n",
       "4  j.k. rowling wishes snape happy birthday in th...             0      11"
      ]
     },
     "execution_count": 301,
     "metadata": {
      "tags": []
     },
     "output_type": "execute_result"
    }
   ],
   "source": [
    "data['length'] = data['headline'].apply(lambda w: len(w.split()))\n",
    "data.head()"
   ]
  },
  {
   "cell_type": "code",
   "execution_count": null,
   "metadata": {
    "colab": {
     "base_uri": "https://localhost:8080/"
    },
    "id": "HuZw1PWQPD5s",
    "outputId": "4e57a8b5-b4e0-45f0-ed90-4ca0471680e7"
   },
   "outputs": [
    {
     "data": {
      "text/plain": [
       "0    14985\n",
       "1    11724\n",
       "Name: is_sarcastic, dtype: int64"
      ]
     },
     "execution_count": 303,
     "metadata": {
      "tags": []
     },
     "output_type": "execute_result"
    }
   ],
   "source": [
    "data['is_sarcastic'].value_counts()"
   ]
  },
  {
   "cell_type": "code",
   "execution_count": null,
   "metadata": {
    "colab": {
     "base_uri": "https://localhost:8080/",
     "height": 315
    },
    "id": "P04G8jiTPLoi",
    "outputId": "25ab2b94-6d69-4ab1-f155-3510b6190386"
   },
   "outputs": [
    {
     "data": {
      "text/plain": [
       "(array([14985.,     0., 11724.]),\n",
       " array([0.        , 0.33333333, 0.66666667, 1.        ]),\n",
       " <a list of 3 Patch objects>)"
      ]
     },
     "execution_count": 305,
     "metadata": {
      "tags": []
     },
     "output_type": "execute_result"
    },
    {
     "data": {
      "image/png": "[encoded data removed]",
      "text/plain": [
       "<Figure size 432x288 with 1 Axes>"
      ]
     },
     "metadata": {
      "tags": []
     },
     "output_type": "display_data"
    }
   ],
   "source": [
    "plt.hist(data['is_sarcastic'], bins=3)"
   ]
  },
  {
   "cell_type": "markdown",
   "metadata": {
    "id": "pBTYsXXhNSfm"
   },
   "source": [
    "### 4. Define parameters\n"
   ]
  },
  {
   "cell_type": "code",
   "execution_count": null,
   "metadata": {
    "colab": {
     "base_uri": "https://localhost:8080/"
    },
    "id": "3F1Hx2TaM0LA",
    "outputId": "01ad6484-3b33-40fd-90dd-8571e1fe3fe3"
   },
   "outputs": [
    {
     "name": "stdout",
     "output_type": "stream",
     "text": [
      "21367\n"
     ]
    }
   ],
   "source": [
    "train_size = int(data.shape[0]*0.8)\n",
    "print(train_size)"
   ]
  },
  {
   "cell_type": "code",
   "execution_count": null,
   "metadata": {
    "id": "-l7jorLyPz3n"
   },
   "outputs": [],
   "source": [
    "embed_size = 100"
   ]
  },
  {
   "cell_type": "code",
   "execution_count": null,
   "metadata": {
    "id": "csaJ5VrIP0_N"
   },
   "outputs": [],
   "source": [
    "max_len = 32"
   ]
  },
  {
   "cell_type": "markdown",
   "metadata": {
    "id": "YjAJtHGrQPjn"
   },
   "source": [
    "### 5. Get indices for words\n"
   ]
  },
  {
   "cell_type": "code",
   "execution_count": null,
   "metadata": {
    "id": "cR9gM_6gQE2U"
   },
   "outputs": [],
   "source": [
    "# for each line in the glove embedding text file, the first value is the word and the second value is the embedding (100 dimension array)\n",
    "# Storing the values into a dictionary\n",
    "emb_index = {}\n",
    "with open(data_path + 'glove.6B.100d.txt') as file:\n",
    "  for line in file:\n",
    "    val = line.split()\n",
    "    word = val[0]\n",
    "    coefs = np.asarray(val[1:], dtype='float32')\n",
    "    emb_index[word] = coefs\n"
   ]
  },
  {
   "cell_type": "code",
   "execution_count": null,
   "metadata": {
    "colab": {
     "base_uri": "https://localhost:8080/"
    },
    "id": "-SdAB8fRj_Cp",
    "outputId": "d2b8e2ef-fd85-456d-e6f1-ee541b6366ea"
   },
   "outputs": [
    {
     "data": {
      "text/plain": [
       "400000"
      ]
     },
     "execution_count": 324,
     "metadata": {
      "tags": []
     },
     "output_type": "execute_result"
    }
   ],
   "source": [
    "len(emb_index)"
   ]
  },
  {
   "cell_type": "markdown",
   "metadata": {
    "id": "foX7xtHDQTvL"
   },
   "source": [
    "### 6. Create features and labels\n"
   ]
  },
  {
   "cell_type": "code",
   "execution_count": null,
   "metadata": {
    "id": "GsbrSjy2QYdO"
   },
   "outputs": [],
   "source": [
    "train_lines = data['headline'][:train_size]\n",
    "test_lines = data['headline'][train_size:]\n",
    "train_label = data['is_sarcastic'][:train_size]\n",
    "test_label = data['is_sarcastic'][train_size:]"
   ]
  },
  {
   "cell_type": "code",
   "execution_count": null,
   "metadata": {
    "colab": {
     "base_uri": "https://localhost:8080/"
    },
    "id": "PQiyCmygQjTs",
    "outputId": "d15d3d8e-0fa8-4688-d111-c25d37bc1423"
   },
   "outputs": [
    {
     "name": "stdout",
     "output_type": "stream",
     "text": [
      "(21367,) (5342,) (21367,) (5342,)\n"
     ]
    }
   ],
   "source": [
    "print(train_lines.shape, test_lines.shape, train_label.shape, test_label.shape)"
   ]
  },
  {
   "cell_type": "code",
   "execution_count": null,
   "metadata": {
    "id": "JRFUWzidn5Fg"
   },
   "outputs": [],
   "source": [
    "# Tokenize the sentences and pad them to make equal length\n",
    "from tensorflow.keras.preprocessing.text import Tokenizer\n",
    "from tensorflow.keras.preprocessing.sequence import pad_sequences\n",
    "\n",
    "tokenizer = Tokenizer(oov_token='<OOV>')\n",
    "tokenizer.fit_on_texts(data['headline'])\n",
    "word_index = tokenizer.word_index"
   ]
  },
  {
   "cell_type": "code",
   "execution_count": null,
   "metadata": {
    "id": "k5BZoEBcpbhL"
   },
   "outputs": [],
   "source": [
    "# Convert train data to padded sequences of integer values\n",
    "train_seq = tokenizer.texts_to_sequences(train_lines)\n",
    "train_padded = pad_sequences(train_seq, maxlen=max_len, padding='post', truncating='post')"
   ]
  },
  {
   "cell_type": "code",
   "execution_count": null,
   "metadata": {
    "id": "pNBqwGY4qCfJ"
   },
   "outputs": [],
   "source": [
    "# Convert test data to padded sequences of integer values\n",
    "test_seq = tokenizer.texts_to_sequences(test_lines)\n",
    "test_padded = pad_sequences(test_seq, maxlen=max_len, padding='post', truncating='post')"
   ]
  },
  {
   "cell_type": "code",
   "execution_count": null,
   "metadata": {
    "colab": {
     "base_uri": "https://localhost:8080/"
    },
    "id": "fnpjXPpOqQCh",
    "outputId": "61589558-08dd-4685-80a7-37d8bd1383d9"
   },
   "outputs": [
    {
     "name": "stdout",
     "output_type": "stream",
     "text": [
      "(21367, 32) (5342, 32) (21367,) (5342,)\n"
     ]
    }
   ],
   "source": [
    "print(train_padded.shape, test_padded.shape, train_label.shape, test_label.shape)"
   ]
  },
  {
   "cell_type": "markdown",
   "metadata": {
    "id": "tw0vyOt-SXtj"
   },
   "source": [
    "### 7. Get vocabulary size\n"
   ]
  },
  {
   "cell_type": "code",
   "execution_count": null,
   "metadata": {
    "colab": {
     "base_uri": "https://localhost:8080/"
    },
    "id": "xIe8akzXQktR",
    "outputId": "32066552-8220-4253-ce4b-9cec8da25e3b"
   },
   "outputs": [
    {
     "data": {
      "text/plain": [
       "29657"
      ]
     },
     "execution_count": 335,
     "metadata": {
      "tags": []
     },
     "output_type": "execute_result"
    }
   ],
   "source": [
    "vocab_size = len(word_index)\n",
    "vocab_size"
   ]
  },
  {
   "cell_type": "markdown",
   "metadata": {
    "id": "XjAEasFFSkLJ"
   },
   "source": [
    "### 8. Create a weight matrix using GloVe embeddings\n"
   ]
  },
  {
   "cell_type": "code",
   "execution_count": null,
   "metadata": {
    "id": "IY0ngJhWSeuP"
   },
   "outputs": [],
   "source": [
    "emb_matrix = np.zeros((vocab_size+1, embed_size))\n",
    "for key in sorted(word_index, key=word_index.get)[:vocab_size]:\n",
    "  embedding_vector = emb_index.get(key)\n",
    "  if embedding_vector is not None:\n",
    "    emb_matrix[word_index[key]] = embedding_vector"
   ]
  },
  {
   "cell_type": "code",
   "execution_count": null,
   "metadata": {
    "colab": {
     "base_uri": "https://localhost:8080/"
    },
    "id": "UodNYH0jjmyE",
    "outputId": "c7cbf189-cf47-4077-84ac-86409bbdcfc9"
   },
   "outputs": [
    {
     "data": {
      "text/plain": [
       "(29658, 100)"
      ]
     },
     "execution_count": 337,
     "metadata": {
      "tags": []
     },
     "output_type": "execute_result"
    }
   ],
   "source": [
    "emb_matrix.shape"
   ]
  },
  {
   "cell_type": "markdown",
   "metadata": {
    "id": "anBqs0oTktZT"
   },
   "source": [
    "### 9. Define and compile a Bidirectional LSTM model.\n",
    "Hint: Be analytical and experimental here in trying new approaches to design the best model."
   ]
  },
  {
   "cell_type": "code",
   "execution_count": null,
   "metadata": {
    "id": "facwF72gloIO"
   },
   "outputs": [],
   "source": [
    "from tensorflow.keras.layers import Bidirectional"
   ]
  },
  {
   "cell_type": "code",
   "execution_count": 349,
   "metadata": {
    "id": "95AzSbUzj1Mm"
   },
   "outputs": [],
   "source": [
    "# Define the Sequential model with Embeddings initialized with the weights of the emb_matrix we created earlier\n",
    "# Add bidirectional LSTM and  return only the last sequence for many-to-one task\n",
    "# Finally Add Dense layer with sigmoid activation to give a binary output probability\n",
    "bi_lstm = Sequential()\n",
    "bi_lstm.add(Embedding(vocab_size+1, embed_size, input_length=max_len, weights=[emb_matrix]))\n",
    "bi_lstm.add(Dropout(0.2))\n",
    "bi_lstm.add(Bidirectional(LSTM(64, return_sequences=True)))\n",
    "bi_lstm.add(Dropout(0.2))\n",
    "bi_lstm.add(Dense(1, activation='sigmoid'))"
   ]
  },
  {
   "cell_type": "code",
   "execution_count": 350,
   "metadata": {
    "id": "o70855timWlF"
   },
   "outputs": [],
   "source": [
    "# Compile the model\n",
    "bi_lstm.compile(optimizer='adam', loss='binary_crossentropy', metrics=['accuracy'])"
   ]
  },
  {
   "cell_type": "markdown",
   "metadata": {
    "id": "fdN31CnYkwNX"
   },
   "source": [
    "### 10. Fit the model and check the validation accuracy"
   ]
  },
  {
   "cell_type": "code",
   "execution_count": 351,
   "metadata": {
    "id": "-wUVN0g7nEnL"
   },
   "outputs": [],
   "source": [
    "from tensorflow.keras.callbacks import EarlyStopping"
   ]
  },
  {
   "cell_type": "code",
   "execution_count": 352,
   "metadata": {
    "id": "-Y5YRjpzm_lu"
   },
   "outputs": [],
   "source": [
    "# Define callback to find the best weights\n",
    "callback = EarlyStopping(monitor='val_loss', patience=3, restore_best_weights=True)"
   ]
  },
  {
   "cell_type": "code",
   "execution_count": 353,
   "metadata": {
    "colab": {
     "base_uri": "https://localhost:8080/"
    },
    "id": "6PHoKe9ynU8I",
    "outputId": "2919b1cc-1b31-488b-ca16-02a6f29d0b32"
   },
   "outputs": [
    {
     "name": "stdout",
     "output_type": "stream",
     "text": [
      "Epoch 1/10\n",
      "668/668 [==============================] - 54s 76ms/step - loss: 0.5356 - accuracy: 0.7121 - val_loss: 0.3407 - val_accuracy: 0.8594\n",
      "Epoch 2/10\n",
      "668/668 [==============================] - 49s 74ms/step - loss: 0.2705 - accuracy: 0.8884 - val_loss: 0.2974 - val_accuracy: 0.8684\n",
      "Epoch 3/10\n",
      "668/668 [==============================] - 49s 74ms/step - loss: 0.1753 - accuracy: 0.9325 - val_loss: 0.3016 - val_accuracy: 0.8719\n",
      "Epoch 4/10\n",
      "668/668 [==============================] - 49s 74ms/step - loss: 0.1175 - accuracy: 0.9564 - val_loss: 0.3492 - val_accuracy: 0.8716\n",
      "Epoch 5/10\n",
      "668/668 [==============================] - 49s 74ms/step - loss: 0.0732 - accuracy: 0.9742 - val_loss: 0.4193 - val_accuracy: 0.8667\n",
      "Epoch 6/10\n",
      "668/668 [==============================] - 50s 74ms/step - loss: 0.0517 - accuracy: 0.9822 - val_loss: 0.4503 - val_accuracy: 0.8666\n",
      "Epoch 7/10\n",
      "668/668 [==============================] - 50s 75ms/step - loss: 0.0340 - accuracy: 0.9888 - val_loss: 0.4646 - val_accuracy: 0.8652\n",
      "Epoch 8/10\n",
      "668/668 [==============================] - 50s 75ms/step - loss: 0.0270 - accuracy: 0.9905 - val_loss: 0.6446 - val_accuracy: 0.8611\n",
      "Epoch 9/10\n",
      "668/668 [==============================] - 49s 74ms/step - loss: 0.0179 - accuracy: 0.9940 - val_loss: 0.6973 - val_accuracy: 0.8628\n",
      "Epoch 10/10\n",
      "668/668 [==============================] - 49s 73ms/step - loss: 0.0179 - accuracy: 0.9944 - val_loss: 0.6545 - val_accuracy: 0.8593\n"
     ]
    },
    {
     "data": {
      "text/plain": [
       "<tensorflow.python.keras.callbacks.History at 0x7f1387fe9f90>"
      ]
     },
     "execution_count": 353,
     "metadata": {
      "tags": []
     },
     "output_type": "execute_result"
    }
   ],
   "source": [
    "# Fit the model\n",
    "bi_lstm.fit(train_padded, train_label, batch_size=32, epochs=10, validation_data=(test_padded, test_label))"
   ]
  },
  {
   "cell_type": "code",
   "execution_count": 354,
   "metadata": {
    "colab": {
     "base_uri": "https://localhost:8080/"
    },
    "id": "FGiyPvC0qeUg",
    "outputId": "eceee4a1-1d5f-4613-abc3-fc25bcaab0a1"
   },
   "outputs": [
    {
     "name": "stdout",
     "output_type": "stream",
     "text": [
      "Model: \"sequential_18\"\n",
      "_________________________________________________________________\n",
      "Layer (type)                 Output Shape              Param #   \n",
      "=================================================================\n",
      "embedding_15 (Embedding)     (None, 32, 100)           2965800   \n",
      "_________________________________________________________________\n",
      "dropout_7 (Dropout)          (None, 32, 100)           0         \n",
      "_________________________________________________________________\n",
      "bidirectional_2 (Bidirection (None, 32, 128)           84480     \n",
      "_________________________________________________________________\n",
      "dropout_8 (Dropout)          (None, 32, 128)           0         \n",
      "_________________________________________________________________\n",
      "dense_13 (Dense)             (None, 32, 1)             129       \n",
      "=================================================================\n",
      "Total params: 3,050,409\n",
      "Trainable params: 3,050,409\n",
      "Non-trainable params: 0\n",
      "_________________________________________________________________\n"
     ]
    }
   ],
   "source": [
    "bi_lstm.summary()"
   ]
  },
  {
   "cell_type": "code",
   "execution_count": 356,
   "metadata": {
    "colab": {
     "base_uri": "https://localhost:8080/"
    },
    "id": "1VXmkm5F1WGC",
    "outputId": "3d9d76ec-5d49-466e-f394-d650875bfeb4"
   },
   "outputs": [
    {
     "name": "stdout",
     "output_type": "stream",
     "text": [
      "167/167 [==============================] - 2s 10ms/step - loss: 0.6545 - accuracy: 0.8593\n",
      "Validation Accuracy: 85.93%\n"
     ]
    }
   ],
   "source": [
    "# Checking Validation accuracy\n",
    "val_accuracy = bi_lstm.evaluate(test_padded, test_label)\n",
    "print('Validation Accuracy: %.2f%%' %(val_accuracy[1]*100))"
   ]
  }
 ],
 "metadata": {
  "colab": {
   "collapsed_sections": [],
   "name": "NLP Project - 2 - Sequential NLP.ipynb",
   "provenance": []
  },
  "kernelspec": {
   "display_name": "Python 3",
   "language": "python",
   "name": "python3"
  },
  "language_info": {
   "codemirror_mode": {
    "name": "ipython",
    "version": 3
   },
   "file_extension": ".py",
   "mimetype": "text/x-python",
   "name": "python",
   "nbconvert_exporter": "python",
   "pygments_lexer": "ipython3",
   "version": "3.8.5"
  }
 },
 "nbformat": 4,
 "nbformat_minor": 1
}
